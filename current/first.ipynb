{
 "cells": [
  {
   "cell_type": "code",
   "execution_count": 1,
   "metadata": {},
   "outputs": [
    {
     "name": "stdout",
     "output_type": "stream",
     "text": [
      "hello World\n"
     ]
    }
   ],
   "source": [
    "print(\"hello World\")"
   ]
  },
  {
   "cell_type": "markdown",
   "metadata": {},
   "source": [
    "# Welcome to Python workshop\n",
    "## Hello\n",
    "Cell type code to Markdown - ESC + M  Then shift Enter\n",
    "Markdown to code - ESC+Y , then shift enter"
   ]
  },
  {
   "cell_type": "code",
   "execution_count": 3,
   "metadata": {},
   "outputs": [
    {
     "name": "stdout",
     "output_type": "stream",
     "text": [
      " Volume in drive D is LENOVO\n",
      " Volume Serial Number is 0299-ED51\n",
      "\n",
      " Directory of D:\\handson\n",
      "\n",
      "30-06-2021  14:01    <DIR>          .\n",
      "30-06-2021  14:01    <DIR>          ..\n",
      "30-06-2021  13:53    <DIR>          .ipynb_checkpoints\n",
      "30-06-2021  12:57           138,062 air_quality_no2_long.csv\n",
      "29-06-2021  13:36    <DIR>          data\n",
      "28-06-2021  21:14    <DIR>          DAY1\n",
      "28-06-2021  21:13            43,208 DAY1.txt\n",
      "29-06-2021  21:34    <DIR>          DAY2\n",
      "29-06-2021  20:22            22,020 DAY2.txt\n",
      "30-06-2021  04:31    <DIR>          DAY3\n",
      "30-06-2021  11:25                 0 DAY3.txt\n",
      "30-06-2021  13:35    <DIR>          demo_code\n",
      "29-06-2021  10:17            94,208 fake.db\n",
      "30-06-2021  14:01             1,058 first.ipynb\n",
      "30-06-2021  12:29            31,903 pandas_flask_handson.zip\n",
      "30-06-2021  06:31             1,811 quick_server.py\n",
      "30-06-2021  06:26    <DIR>          templates\n",
      "30-06-2021  13:53                72 Untitled.ipynb\n",
      "               9 File(s)        332,342 bytes\n",
      "               9 Dir(s)  13,530,050,560 bytes free\n"
     ]
    }
   ],
   "source": [
    "!dir"
   ]
  },
  {
   "cell_type": "code",
   "execution_count": null,
   "metadata": {},
   "outputs": [],
   "source": []
  }
 ],
 "metadata": {
  "kernelspec": {
   "display_name": "Python 3",
   "language": "python",
   "name": "python3"
  },
  "language_info": {
   "codemirror_mode": {
    "name": "ipython",
    "version": 3
   },
   "file_extension": ".py",
   "mimetype": "text/x-python",
   "name": "python",
   "nbconvert_exporter": "python",
   "pygments_lexer": "ipython3",
   "version": "3.7.6"
  }
 },
 "nbformat": 4,
 "nbformat_minor": 2
}
