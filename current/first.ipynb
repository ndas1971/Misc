{
 "cells": [
  {
   "cell_type": "code",
   "execution_count": 2,
   "metadata": {},
   "outputs": [],
   "source": [
    "import numpy as np\n",
    "import pandas as pd\n",
    "import matplotlib.pyplot as plt"
   ]
  },
  {
   "cell_type": "code",
   "execution_count": 5,
   "metadata": {},
   "outputs": [],
   "source": [
    "k = 10 \n",
    "n = 50\n",
    "X, Y = np.mgrid[-k:k:n, -k:k:n]"
   ]
  },
  {
   "cell_type": "markdown",
   "metadata": {},
   "source": [
    "if the step length is a complex number (e.g. 5j), \n",
    "then the integer part of its magnitude is interpreted \n",
    "as specifying the number of points to create between the start and stop values, \n",
    "where the stop value is inclusive."
   ]
  },
  {
   "cell_type": "code",
   "execution_count": 6,
   "metadata": {},
   "outputs": [
    {
     "data": {
      "text/plain": [
       "array([[-10]])"
      ]
     },
     "execution_count": 6,
     "metadata": {},
     "output_type": "execute_result"
    }
   ],
   "source": [
    "X"
   ]
  },
  {
   "cell_type": "code",
   "execution_count": 9,
   "metadata": {},
   "outputs": [
    {
     "data": {
      "text/plain": [
       "array([[[-5, -5, -5, -5, -5, -5],\n",
       "        [-4, -4, -4, -4, -4, -4],\n",
       "        [-3, -3, -3, -3, -3, -3],\n",
       "        [-2, -2, -2, -2, -2, -2],\n",
       "        [-1, -1, -1, -1, -1, -1],\n",
       "        [ 0,  0,  0,  0,  0,  0],\n",
       "        [ 1,  1,  1,  1,  1,  1],\n",
       "        [ 2,  2,  2,  2,  2,  2],\n",
       "        [ 3,  3,  3,  3,  3,  3],\n",
       "        [ 4,  4,  4,  4,  4,  4]],\n",
       "\n",
       "       [[-1,  0,  1,  2,  3,  4],\n",
       "        [-1,  0,  1,  2,  3,  4],\n",
       "        [-1,  0,  1,  2,  3,  4],\n",
       "        [-1,  0,  1,  2,  3,  4],\n",
       "        [-1,  0,  1,  2,  3,  4],\n",
       "        [-1,  0,  1,  2,  3,  4],\n",
       "        [-1,  0,  1,  2,  3,  4],\n",
       "        [-1,  0,  1,  2,  3,  4],\n",
       "        [-1,  0,  1,  2,  3,  4],\n",
       "        [-1,  0,  1,  2,  3,  4]]])"
      ]
     },
     "execution_count": 9,
     "metadata": {},
     "output_type": "execute_result"
    }
   ],
   "source": [
    "np.mgrid[-5:5,-1:5]"
   ]
  },
  {
   "cell_type": "code",
   "execution_count": 10,
   "metadata": {},
   "outputs": [],
   "source": [
    "from sqlalchemy import create_engine, text"
   ]
  },
  {
   "cell_type": "code",
   "execution_count": 13,
   "metadata": {},
   "outputs": [],
   "source": [
    "eng = create_engine(\"sqlite:///DAY3/fake.db\") "
   ]
  },
  {
   "cell_type": "markdown",
   "metadata": {},
   "source": [
    "df_fake_data = pd.read_sql(\"people\",  con=eng)\n",
    "df_fake_data.drop(columns=['id'], inplace=True)\n",
    "df_fake_data['dob'] = pd.to_datetime(df_fake_data.dob, format='%Y-%m-%d')\n",
    "df_fake_data['dob'].dt.year.head()\n"
   ]
  },
  {
   "cell_type": "code",
   "execution_count": 20,
   "metadata": {},
   "outputs": [
    {
     "data": {
      "text/plain": [
       "0    1997\n",
       "1    1979\n",
       "2    2001\n",
       "3    1973\n",
       "4    2008\n",
       "Name: dob, dtype: int64"
      ]
     },
     "execution_count": 20,
     "metadata": {},
     "output_type": "execute_result"
    }
   ],
   "source": [
    "df_fake_data = pd.read_sql(\"people\",  con=eng)\n",
    "df_fake_data.head()\n",
    "df_fake_data.drop(columns=['id'], inplace=True)\n",
    "df_fake_data['dob'] = pd.to_datetime(df_fake_data.dob, format='%Y-%m-%d')\n",
    "df_fake_data['dob'].dt.year.head()"
   ]
  },
  {
   "cell_type": "code",
   "execution_count": 21,
   "metadata": {},
   "outputs": [
    {
     "data": {
      "text/plain": [
       "[['Afghanistan', 2],\n",
       " ['American Samoa', 1],\n",
       " ['Andorra', 1],\n",
       " ['Anguilla', 1],\n",
       " ['Aruba', 1],\n",
       " ['Bahamas', 1],\n",
       " ['Bouvet Island (Bouvetoya)', 2],\n",
       " ['Brazil', 2],\n",
       " ['British Indian Ocean Territory (Chagos Archipelago)', 1],\n",
       " ['Cambodia', 1],\n",
       " ['Cocos (Keeling) Islands', 1],\n",
       " ['Comoros', 1],\n",
       " ['Cook Islands', 2],\n",
       " [\"Cote d'Ivoire\", 1],\n",
       " ['Croatia', 1],\n",
       " ['Djibouti', 1],\n",
       " ['Dominica', 1],\n",
       " ['Ethiopia', 1],\n",
       " ['Faroe Islands', 1],\n",
       " ['Fiji', 1],\n",
       " ['Finland', 1],\n",
       " ['France', 1],\n",
       " ['French Polynesia', 1],\n",
       " ['French Southern Territories', 1],\n",
       " ['Gabon', 1],\n",
       " ['Gambia', 1],\n",
       " ['Georgia', 1],\n",
       " ['Ghana', 1],\n",
       " ['Guam', 1],\n",
       " ['Guinea-Bissau', 1],\n",
       " ['Heard Island and McDonald Islands', 1],\n",
       " ['Holy See (Vatican City State)', 1],\n",
       " ['Honduras', 2],\n",
       " ['Indonesia', 1],\n",
       " ['Iran', 1],\n",
       " ['Iraq', 1],\n",
       " ['Japan', 1],\n",
       " ['Jordan', 1],\n",
       " ['Korea', 1],\n",
       " ['Kyrgyz Republic', 3],\n",
       " ['Liberia', 1],\n",
       " ['Liechtenstein', 2],\n",
       " ['Macao', 2],\n",
       " ['Malawi', 1],\n",
       " ['Malta', 1],\n",
       " ['Marshall Islands', 1],\n",
       " ['Martinique', 1],\n",
       " ['Mauritius', 1],\n",
       " ['Mayotte', 1],\n",
       " ['Micronesia', 1],\n",
       " ['Netherlands', 1],\n",
       " ['New Caledonia', 2],\n",
       " ['Nigeria', 1],\n",
       " ['Northern Mariana Islands', 1],\n",
       " ['Oman', 1],\n",
       " ['Palestinian Territory', 1],\n",
       " ['Papua New Guinea', 1],\n",
       " ['Paraguay', 1],\n",
       " ['Poland', 1],\n",
       " ['Qatar', 1],\n",
       " ['Saint Barthelemy', 1],\n",
       " ['Saint Martin', 1],\n",
       " ['Saint Vincent and the Grenadines', 1],\n",
       " ['Samoa', 1],\n",
       " ['San Marino', 1],\n",
       " ['Sao Tome and Principe', 1],\n",
       " ['Saudi Arabia', 1],\n",
       " ['Senegal', 2],\n",
       " ['Serbia', 1],\n",
       " ['Solomon Islands', 1],\n",
       " ['South Africa', 1],\n",
       " ['South Georgia and the South Sandwich Islands', 1],\n",
       " ['Spain', 1],\n",
       " ['Sudan', 1],\n",
       " ['Svalbard & Jan Mayen Islands', 1],\n",
       " ['Swaziland', 1],\n",
       " ['Switzerland', 1],\n",
       " ['Syrian Arab Republic', 2],\n",
       " ['Taiwan', 1],\n",
       " ['Togo', 1],\n",
       " ['Tuvalu', 1],\n",
       " ['Uganda', 2],\n",
       " ['United Arab Emirates', 2],\n",
       " ['United Kingdom', 1],\n",
       " ['United States Virgin Islands', 1],\n",
       " ['Vanuatu', 1],\n",
       " ['Venezuela', 1],\n",
       " ['Vietnam', 1]]"
      ]
     },
     "execution_count": 21,
     "metadata": {},
     "output_type": "execute_result"
    }
   ],
   "source": [
    "grp = df_fake_data.loc[(df_fake_data['dob'].dt.year >= 1990) & (df_fake_data['dob'].dt.year< 1995), ['country', 'dob']].groupby('country')\n",
    "grp.count().reset_index().values.tolist()"
   ]
  },
  {
   "cell_type": "code",
   "execution_count": null,
   "metadata": {},
   "outputs": [],
   "source": []
  }
 ],
 "metadata": {
  "kernelspec": {
   "display_name": "Python 3",
   "language": "python",
   "name": "python3"
  },
  "language_info": {
   "codemirror_mode": {
    "name": "ipython",
    "version": 3
   },
   "file_extension": ".py",
   "mimetype": "text/x-python",
   "name": "python",
   "nbconvert_exporter": "python",
   "pygments_lexer": "ipython3",
   "version": "3.7.6"
  }
 },
 "nbformat": 4,
 "nbformat_minor": 2
}
