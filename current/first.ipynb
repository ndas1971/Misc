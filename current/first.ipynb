{
 "cells": [
  {
   "cell_type": "code",
   "execution_count": 1,
   "metadata": {},
   "outputs": [
    {
     "name": "stdout",
     "output_type": "stream",
     "text": [
      "hello World\n"
     ]
    }
   ],
   "source": [
    "print(\"hello World\")"
   ]
  },
  {
   "cell_type": "markdown",
   "metadata": {},
   "source": [
    "# Welcome to Python workshop\n",
    "## Hello\n",
    "Cell type code to Markdown - ESC + M  Then shift Enter\n",
    "Markdown to code - ESC+Y , then shift enter"
   ]
  },
  {
   "cell_type": "code",
   "execution_count": 3,
   "metadata": {},
   "outputs": [
    {
     "name": "stdout",
     "output_type": "stream",
     "text": [
      " Volume in drive D is LENOVO\n",
      " Volume Serial Number is 0299-ED51\n",
      "\n",
      " Directory of D:\\handson\n",
      "\n",
      "30-06-2021  14:01    <DIR>          .\n",
      "30-06-2021  14:01    <DIR>          ..\n",
      "30-06-2021  13:53    <DIR>          .ipynb_checkpoints\n",
      "30-06-2021  12:57           138,062 air_quality_no2_long.csv\n",
      "29-06-2021  13:36    <DIR>          data\n",
      "28-06-2021  21:14    <DIR>          DAY1\n",
      "28-06-2021  21:13            43,208 DAY1.txt\n",
      "29-06-2021  21:34    <DIR>          DAY2\n",
      "29-06-2021  20:22            22,020 DAY2.txt\n",
      "30-06-2021  04:31    <DIR>          DAY3\n",
      "30-06-2021  11:25                 0 DAY3.txt\n",
      "30-06-2021  13:35    <DIR>          demo_code\n",
      "29-06-2021  10:17            94,208 fake.db\n",
      "30-06-2021  14:01             1,058 first.ipynb\n",
      "30-06-2021  12:29            31,903 pandas_flask_handson.zip\n",
      "30-06-2021  06:31             1,811 quick_server.py\n",
      "30-06-2021  06:26    <DIR>          templates\n",
      "30-06-2021  13:53                72 Untitled.ipynb\n",
      "               9 File(s)        332,342 bytes\n",
      "               9 Dir(s)  13,530,050,560 bytes free\n"
     ]
    }
   ],
   "source": [
    "!dir"
   ]
  },
  {
   "cell_type": "code",
   "execution_count": 4,
   "metadata": {},
   "outputs": [
    {
     "data": {
      "application/json": {
       "cell": {
        "!": "OSMagics",
        "HTML": "Other",
        "SVG": "Other",
        "bash": "Other",
        "capture": "ExecutionMagics",
        "cmd": "Other",
        "debug": "ExecutionMagics",
        "file": "Other",
        "html": "DisplayMagics",
        "javascript": "DisplayMagics",
        "js": "DisplayMagics",
        "latex": "DisplayMagics",
        "markdown": "DisplayMagics",
        "perl": "Other",
        "prun": "ExecutionMagics",
        "pypy": "Other",
        "python": "Other",
        "python2": "Other",
        "python3": "Other",
        "ruby": "Other",
        "script": "ScriptMagics",
        "sh": "Other",
        "svg": "DisplayMagics",
        "sx": "OSMagics",
        "system": "OSMagics",
        "time": "ExecutionMagics",
        "timeit": "ExecutionMagics",
        "writefile": "OSMagics"
       },
       "line": {
        "alias": "OSMagics",
        "alias_magic": "BasicMagics",
        "autocall": "AutoMagics",
        "automagic": "AutoMagics",
        "autosave": "KernelMagics",
        "bookmark": "OSMagics",
        "cd": "OSMagics",
        "clear": "KernelMagics",
        "cls": "KernelMagics",
        "colors": "BasicMagics",
        "config": "ConfigMagics",
        "connect_info": "KernelMagics",
        "copy": "Other",
        "ddir": "Other",
        "debug": "ExecutionMagics",
        "dhist": "OSMagics",
        "dirs": "OSMagics",
        "doctest_mode": "BasicMagics",
        "echo": "Other",
        "ed": "Other",
        "edit": "KernelMagics",
        "env": "OSMagics",
        "gui": "BasicMagics",
        "hist": "Other",
        "history": "HistoryMagics",
        "killbgscripts": "ScriptMagics",
        "ldir": "Other",
        "less": "KernelMagics",
        "load": "CodeMagics",
        "load_ext": "ExtensionMagics",
        "loadpy": "CodeMagics",
        "logoff": "LoggingMagics",
        "logon": "LoggingMagics",
        "logstart": "LoggingMagics",
        "logstate": "LoggingMagics",
        "logstop": "LoggingMagics",
        "ls": "Other",
        "lsmagic": "BasicMagics",
        "macro": "ExecutionMagics",
        "magic": "BasicMagics",
        "matplotlib": "PylabMagics",
        "mkdir": "Other",
        "more": "KernelMagics",
        "notebook": "BasicMagics",
        "page": "BasicMagics",
        "pastebin": "CodeMagics",
        "pdb": "ExecutionMagics",
        "pdef": "NamespaceMagics",
        "pdoc": "NamespaceMagics",
        "pfile": "NamespaceMagics",
        "pinfo": "NamespaceMagics",
        "pinfo2": "NamespaceMagics",
        "pip": "BasicMagics",
        "popd": "OSMagics",
        "pprint": "BasicMagics",
        "precision": "BasicMagics",
        "profile": "BasicMagics",
        "prun": "ExecutionMagics",
        "psearch": "NamespaceMagics",
        "psource": "NamespaceMagics",
        "pushd": "OSMagics",
        "pwd": "OSMagics",
        "pycat": "OSMagics",
        "pylab": "PylabMagics",
        "qtconsole": "KernelMagics",
        "quickref": "BasicMagics",
        "recall": "HistoryMagics",
        "rehashx": "OSMagics",
        "reload_ext": "ExtensionMagics",
        "ren": "Other",
        "rep": "Other",
        "rerun": "HistoryMagics",
        "reset": "NamespaceMagics",
        "reset_selective": "NamespaceMagics",
        "rmdir": "Other",
        "run": "ExecutionMagics",
        "save": "CodeMagics",
        "sc": "OSMagics",
        "set_env": "OSMagics",
        "store": "StoreMagics",
        "sx": "OSMagics",
        "system": "OSMagics",
        "tb": "ExecutionMagics",
        "time": "ExecutionMagics",
        "timeit": "ExecutionMagics",
        "unalias": "OSMagics",
        "unload_ext": "ExtensionMagics",
        "who": "NamespaceMagics",
        "who_ls": "NamespaceMagics",
        "whos": "NamespaceMagics",
        "xdel": "NamespaceMagics",
        "xmode": "BasicMagics"
       }
      },
      "text/plain": [
       "Available line magics:\n",
       "%alias  %alias_magic  %autocall  %automagic  %autosave  %bookmark  %cd  %clear  %cls  %colors  %config  %connect_info  %copy  %ddir  %debug  %dhist  %dirs  %doctest_mode  %echo  %ed  %edit  %env  %gui  %hist  %history  %killbgscripts  %ldir  %less  %load  %load_ext  %loadpy  %logoff  %logon  %logstart  %logstate  %logstop  %ls  %lsmagic  %macro  %magic  %matplotlib  %mkdir  %more  %notebook  %page  %pastebin  %pdb  %pdef  %pdoc  %pfile  %pinfo  %pinfo2  %popd  %pprint  %precision  %profile  %prun  %psearch  %psource  %pushd  %pwd  %pycat  %pylab  %qtconsole  %quickref  %recall  %rehashx  %reload_ext  %ren  %rep  %rerun  %reset  %reset_selective  %rmdir  %run  %save  %sc  %set_env  %store  %sx  %system  %tb  %time  %timeit  %unalias  %unload_ext  %who  %who_ls  %whos  %xdel  %xmode\n",
       "\n",
       "Available cell magics:\n",
       "%%!  %%HTML  %%SVG  %%bash  %%capture  %%cmd  %%debug  %%file  %%html  %%javascript  %%js  %%latex  %%markdown  %%perl  %%prun  %%pypy  %%python  %%python2  %%python3  %%ruby  %%script  %%sh  %%svg  %%sx  %%system  %%time  %%timeit  %%writefile\n",
       "\n",
       "Automagic is ON, % prefix IS NOT needed for line magics."
      ]
     },
     "execution_count": 4,
     "metadata": {},
     "output_type": "execute_result"
    }
   ],
   "source": [
    "%lsmagic"
   ]
  },
  {
   "cell_type": "code",
   "execution_count": 5,
   "metadata": {},
   "outputs": [
    {
     "data": {
      "text/plain": [
       "'D:\\\\handson'"
      ]
     },
     "execution_count": 5,
     "metadata": {},
     "output_type": "execute_result"
    }
   ],
   "source": [
    "%pwd"
   ]
  },
  {
   "cell_type": "code",
   "execution_count": 6,
   "metadata": {},
   "outputs": [
    {
     "data": {
      "text/html": [
       "<html>\n",
       "<body>\n",
       "<table>\n",
       "        <tr> \n",
       "            <th>Name</th> \n",
       "            <th>Country</th> \n",
       "            <th>Age</th> \n",
       "        </tr> \n",
       "        <tr> \n",
       "            <td>Sid</td> \n",
       "            <td>India</td> \n",
       "            <td>22</td> \n",
       "        </tr>\n",
       "        <tr> \n",
       "            <td>Dave</td> \n",
       "            <td>UK</td> \n",
       "            <td>28</td> \n",
       "        </tr>\n",
       "</table>\n",
       "</body>\n",
       "</html>"
      ],
      "text/plain": [
       "<IPython.core.display.HTML object>"
      ]
     },
     "metadata": {},
     "output_type": "display_data"
    }
   ],
   "source": [
    "%%html\n",
    "<html>\n",
    "<body>\n",
    "<table>\n",
    "        <tr> \n",
    "            <th>Name</th> \n",
    "            <th>Country</th> \n",
    "            <th>Age</th> \n",
    "        </tr> \n",
    "        <tr> \n",
    "            <td>Sid</td> \n",
    "            <td>India</td> \n",
    "            <td>22</td> \n",
    "        </tr>\n",
    "        <tr> \n",
    "            <td>Dave</td> \n",
    "            <td>UK</td> \n",
    "            <td>28</td> \n",
    "        </tr>\n",
    "</table>\n",
    "</body>\n",
    "</html>"
   ]
  },
  {
   "cell_type": "markdown",
   "metadata": {},
   "source": [
    "# Numpy"
   ]
  },
  {
   "cell_type": "code",
   "execution_count": 7,
   "metadata": {},
   "outputs": [],
   "source": [
    "n = 100000\n",
    "import numpy as np\n",
    "import pandas as pd\n",
    "import matplotlib.pyplot as plt\n"
   ]
  },
  {
   "cell_type": "code",
   "execution_count": 8,
   "metadata": {},
   "outputs": [],
   "source": [
    "import random\n",
    "x = [random.random() for _ in range(n)]\n",
    "y = [random.random() for _ in range(n)]"
   ]
  },
  {
   "cell_type": "code",
   "execution_count": 9,
   "metadata": {},
   "outputs": [
    {
     "data": {
      "text/plain": [
       "([0.13976017442629507, 0.8745372323020862, 0.6322788950831936],\n",
       " [0.03741630741644375, 0.6527285671947904, 0.5647491021835306])"
      ]
     },
     "execution_count": 9,
     "metadata": {},
     "output_type": "execute_result"
    }
   ],
   "source": [
    "x[:3], y[:3]"
   ]
  },
  {
   "cell_type": "code",
   "execution_count": 10,
   "metadata": {},
   "outputs": [
    {
     "name": "stdout",
     "output_type": "stream",
     "text": [
      "29.5 ms ± 1.55 ms per loop (mean ± std. dev. of 7 runs, 10 loops each)\n"
     ]
    }
   ],
   "source": [
    "%timeit [x[i]+y[i] for i in range(n)]"
   ]
  },
  {
   "cell_type": "code",
   "execution_count": 11,
   "metadata": {},
   "outputs": [],
   "source": [
    "xa = np.array(x)\n",
    "ya = np.array(y)"
   ]
  },
  {
   "cell_type": "code",
   "execution_count": 12,
   "metadata": {},
   "outputs": [
    {
     "name": "stdout",
     "output_type": "stream",
     "text": [
      "197 µs ± 12.6 µs per loop (mean ± std. dev. of 7 runs, 1000 loops each)\n"
     ]
    }
   ],
   "source": [
    "%timeit xa+ya"
   ]
  },
  {
   "cell_type": "markdown",
   "metadata": {},
   "source": [
    "# numpy operations\n",
    "\n",
    "https://numpy.org/doc/stable/reference/"
   ]
  },
  {
   "cell_type": "code",
   "execution_count": 13,
   "metadata": {},
   "outputs": [
    {
     "data": {
      "text/plain": [
       "620"
      ]
     },
     "execution_count": 13,
     "metadata": {},
     "output_type": "execute_result"
    }
   ],
   "source": [
    "len(dir(np))"
   ]
  },
  {
   "cell_type": "code",
   "execution_count": 14,
   "metadata": {},
   "outputs": [],
   "source": [
    "x = np.array([1,3,4])\n",
    "y = np.linspace(2., 3., num=3)\n",
    "z = np.arange(12).reshape(2,6)\n",
    "ru =np.random.random((2,6))\n",
    "rn = np.random.normal( 0,1, (6,4)) # mu, sigma"
   ]
  },
  {
   "cell_type": "code",
   "execution_count": 17,
   "metadata": {},
   "outputs": [
    {
     "name": "stdout",
     "output_type": "stream",
     "text": [
      "x=[1 3 4]\n",
      "y=[2.  2.5 3. ]\n",
      "z=[[ 0  1  2  3  4  5]\n",
      " [ 6  7  8  9 10 11]]\n",
      "ru=[[0.2757758  0.92187527 0.38649672 0.40621038 0.37901984 0.88919691]\n",
      " [0.45234151 0.67567794 0.02075717 0.04432555 0.06146123 0.01938419]]\n",
      "rn=[[ 1.56004153e+00 -1.00444935e+00 -3.69884849e-01 -7.98369755e-01]\n",
      " [ 7.66051075e-02  4.85110290e-01  1.06412344e+00  2.88277152e-01]\n",
      " [-7.16275977e-01  8.90482063e-03 -9.57403093e-01  1.74682488e+00]\n",
      " [ 3.72121528e-01  3.19433263e-01 -4.69647353e-04 -4.70615053e-01]\n",
      " [ 9.48809738e-01 -5.02499530e-01 -5.97861809e-01  5.65978566e-01]\n",
      " [ 7.76076663e-01  1.03272781e-02  3.12371132e-01  1.44423930e-01]]\n"
     ]
    }
   ],
   "source": [
    "print(f\"x={x}\\ny={y}\\nz={z}\\nru={ru}\\nrn={rn}\")"
   ]
  },
  {
   "cell_type": "code",
   "execution_count": 19,
   "metadata": {},
   "outputs": [
    {
     "data": {
      "text/plain": [
       "(2, 6)"
      ]
     },
     "execution_count": 19,
     "metadata": {},
     "output_type": "execute_result"
    }
   ],
   "source": [
    "# metadata\n",
    "x.shape\n",
    "x.ndim\n",
    "z.shape"
   ]
  },
  {
   "cell_type": "code",
   "execution_count": 18,
   "metadata": {},
   "outputs": [
    {
     "data": {
      "text/plain": [
       "2"
      ]
     },
     "execution_count": 18,
     "metadata": {},
     "output_type": "execute_result"
    }
   ],
   "source": [
    "ru.ndim"
   ]
  },
  {
   "cell_type": "code",
   "execution_count": 20,
   "metadata": {},
   "outputs": [
    {
     "data": {
      "text/plain": [
       "(1, 0, array([[0, 1],\n",
       "        [6, 7]]), array([ 3,  4,  5,  6,  7,  8,  9, 10, 11]))"
      ]
     },
     "execution_count": 20,
     "metadata": {},
     "output_type": "execute_result"
    }
   ],
   "source": [
    "x[0], z[0,0],z[:,0:2]"
   ]
  },
  {
   "cell_type": "code",
   "execution_count": 21,
   "metadata": {},
   "outputs": [
    {
     "data": {
      "text/plain": [
       "(array([ 3,  4,  5,  6,  7,  8,  9, 10, 11]), array([3]))"
      ]
     },
     "execution_count": 21,
     "metadata": {},
     "output_type": "execute_result"
    }
   ],
   "source": [
    " z[z>2], z[(z>2)&(z<4)]#and-&, or-|, not-~"
   ]
  },
  {
   "cell_type": "code",
   "execution_count": 22,
   "metadata": {},
   "outputs": [
    {
     "data": {
      "text/plain": [
       "(3,)"
      ]
     },
     "execution_count": 22,
     "metadata": {},
     "output_type": "execute_result"
    }
   ],
   "source": [
    "#how to convert 1D to 2D\n",
    "y.shape"
   ]
  },
  {
   "cell_type": "code",
   "execution_count": 24,
   "metadata": {},
   "outputs": [],
   "source": [
    "y1 = y[:, None]"
   ]
  },
  {
   "cell_type": "code",
   "execution_count": 26,
   "metadata": {},
   "outputs": [
    {
     "data": {
      "text/plain": [
       "(array([[2. ],\n",
       "        [2.5],\n",
       "        [3. ]]), (3, 1))"
      ]
     },
     "execution_count": 26,
     "metadata": {},
     "output_type": "execute_result"
    }
   ],
   "source": [
    "y1, y1.shape"
   ]
  },
  {
   "cell_type": "markdown",
   "metadata": {},
   "source": [
    "## Broadcasting rule\n",
    "1. Shape manipulation \n",
    "   Convert lower rank array's shape to higher rank shape \n",
    "   'by prepending 1'(always prepend)\n",
    "   For example vector with shape (3,) \n",
    "   is converted to rank 2 array as (1,3) or rank 3 as (1,1,3)\n",
    "   array with (2,3) is converted to rank 3 by (1,2,3)\n",
    "\t\t\t\t\t\t\n",
    "2. Compatibility of arrays \n",
    "   Compatible if they have the same size in a dimension, \n",
    "   or if one of the arrays has size 1 in that dimension.\n",
    "   For example , shape (2,3) is compatible with other array \n",
    "   with shape (2,3) or (1,3) or (2,1) or (1,1) or (1,) \n",
    "   then Broadcasting is possible for other array  \n",
    "\n",
    "3. Broadcasting  \n",
    "   If a dimesion is 1 , other dimesions are copied along that dimension \n",
    "   when doing operations between arrays \n",
    "   eg (1,3) is stacked(vert) 2 times to get (2,3) ie np.tile(x13,(2,1)) #(row_times, col_times)\n",
    "   (2,1) is stacked three times(horz) to get (2,3) ie  np.tile(x21, (1,3)) or np.repeat(x21, 3, axis=1) \n",
    "   (1,1) or (1,) can be tiled ie np.tile(x11, (2,3))\n",
    "   #Example:\n",
    "   If a.shape is (5,1), b.shape is (1,6), c.shape is (6,) \n",
    "   and d.shape is () (ie d scalar), \n",
    "   then a, b, c, and d are all broadcastable to dimension (5,6); \n",
    "    •a acts like a (5,6) array where a[:,0] is broadcast to the other columns,\n",
    "    •b acts like a (5,6) array where b[0,:] is broadcast to the other rows,\n",
    "    •c acts like a (1,6) array and therefore like a (5,6) array where c[:] is broadcast to every row\n",
    "    •d acts like a (5,6) array where the single value is repeated."
   ]
  },
  {
   "cell_type": "code",
   "execution_count": 27,
   "metadata": {},
   "outputs": [
    {
     "data": {
      "text/plain": [
       "((3,), (3, 1))"
      ]
     },
     "execution_count": 27,
     "metadata": {},
     "output_type": "execute_result"
    }
   ],
   "source": [
    "x.shape, y1.shape"
   ]
  },
  {
   "cell_type": "code",
   "execution_count": null,
   "metadata": {},
   "outputs": [],
   "source": []
  }
 ],
 "metadata": {
  "kernelspec": {
   "display_name": "Python 3",
   "language": "python",
   "name": "python3"
  },
  "language_info": {
   "codemirror_mode": {
    "name": "ipython",
    "version": 3
   },
   "file_extension": ".py",
   "mimetype": "text/x-python",
   "name": "python",
   "nbconvert_exporter": "python",
   "pygments_lexer": "ipython3",
   "version": "3.7.6"
  }
 },
 "nbformat": 4,
 "nbformat_minor": 2
}
