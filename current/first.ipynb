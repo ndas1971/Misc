{
 "cells": [
  {
   "cell_type": "code",
   "execution_count": 2,
   "metadata": {},
   "outputs": [],
   "source": [
    "import numpy as np\n",
    "import pandas as pd\n",
    "import matplotlib.pyplot as plt"
   ]
  },
  {
   "cell_type": "code",
   "execution_count": 5,
   "metadata": {},
   "outputs": [],
   "source": [
    "k = 10 \n",
    "n = 50\n",
    "X, Y = np.mgrid[-k:k:n, -k:k:n]"
   ]
  },
  {
   "cell_type": "markdown",
   "metadata": {},
   "source": [
    "if the step length is a complex number (e.g. 5j), \n",
    "then the integer part of its magnitude is interpreted \n",
    "as specifying the number of points to create between the start and stop values, \n",
    "where the stop value is inclusive."
   ]
  },
  {
   "cell_type": "code",
   "execution_count": 6,
   "metadata": {},
   "outputs": [
    {
     "data": {
      "text/plain": [
       "array([[-10]])"
      ]
     },
     "execution_count": 6,
     "metadata": {},
     "output_type": "execute_result"
    }
   ],
   "source": [
    "X"
   ]
  },
  {
   "cell_type": "code",
   "execution_count": 9,
   "metadata": {},
   "outputs": [
    {
     "data": {
      "text/plain": [
       "array([[[-5, -5, -5, -5, -5, -5],\n",
       "        [-4, -4, -4, -4, -4, -4],\n",
       "        [-3, -3, -3, -3, -3, -3],\n",
       "        [-2, -2, -2, -2, -2, -2],\n",
       "        [-1, -1, -1, -1, -1, -1],\n",
       "        [ 0,  0,  0,  0,  0,  0],\n",
       "        [ 1,  1,  1,  1,  1,  1],\n",
       "        [ 2,  2,  2,  2,  2,  2],\n",
       "        [ 3,  3,  3,  3,  3,  3],\n",
       "        [ 4,  4,  4,  4,  4,  4]],\n",
       "\n",
       "       [[-1,  0,  1,  2,  3,  4],\n",
       "        [-1,  0,  1,  2,  3,  4],\n",
       "        [-1,  0,  1,  2,  3,  4],\n",
       "        [-1,  0,  1,  2,  3,  4],\n",
       "        [-1,  0,  1,  2,  3,  4],\n",
       "        [-1,  0,  1,  2,  3,  4],\n",
       "        [-1,  0,  1,  2,  3,  4],\n",
       "        [-1,  0,  1,  2,  3,  4],\n",
       "        [-1,  0,  1,  2,  3,  4],\n",
       "        [-1,  0,  1,  2,  3,  4]]])"
      ]
     },
     "execution_count": 9,
     "metadata": {},
     "output_type": "execute_result"
    }
   ],
   "source": [
    "np.mgrid[-5:5,-1:5]"
   ]
  },
  {
   "cell_type": "code",
   "execution_count": 10,
   "metadata": {},
   "outputs": [],
   "source": [
    "from sqlalchemy import create_engine, text"
   ]
  },
  {
   "cell_type": "code",
   "execution_count": 13,
   "metadata": {},
   "outputs": [],
   "source": [
    "eng = create_engine(\"sqlite:///DAY3/fake.db\") "
   ]
  },
  {
   "cell_type": "markdown",
   "metadata": {},
   "source": [
    "df_fake_data = pd.read_sql(\"people\",  con=eng)\n",
    "df_fake_data.drop(columns=['id'], inplace=True)\n",
    "df_fake_data['dob'] = pd.to_datetime(df_fake_data.dob, format='%Y-%m-%d')\n",
    "df_fake_data['dob'].dt.year.head()\n"
   ]
  },
  {
   "cell_type": "code",
   "execution_count": 20,
   "metadata": {},
   "outputs": [
    {
     "data": {
      "text/plain": [
       "0    1997\n",
       "1    1979\n",
       "2    2001\n",
       "3    1973\n",
       "4    2008\n",
       "Name: dob, dtype: int64"
      ]
     },
     "execution_count": 20,
     "metadata": {},
     "output_type": "execute_result"
    }
   ],
   "source": [
    "df_fake_data = pd.read_sql(\"people\",  con=eng)\n",
    "df_fake_data.head()\n",
    "df_fake_data.drop(columns=['id'], inplace=True)\n",
    "df_fake_data['dob'] = pd.to_datetime(df_fake_data.dob, format='%Y-%m-%d')\n",
    "df_fake_data['dob'].dt.year.head()"
   ]
  },
  {
   "cell_type": "code",
   "execution_count": null,
   "metadata": {},
   "outputs": [],
   "source": []
  }
 ],
 "metadata": {
  "kernelspec": {
   "display_name": "Python 3",
   "language": "python",
   "name": "python3"
  },
  "language_info": {
   "codemirror_mode": {
    "name": "ipython",
    "version": 3
   },
   "file_extension": ".py",
   "mimetype": "text/x-python",
   "name": "python",
   "nbconvert_exporter": "python",
   "pygments_lexer": "ipython3",
   "version": "3.7.6"
  }
 },
 "nbformat": 4,
 "nbformat_minor": 2
}
