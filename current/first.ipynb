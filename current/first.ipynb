{
 "cells": [
  {
   "cell_type": "code",
   "execution_count": 1,
   "metadata": {},
   "outputs": [
    {
     "name": "stdout",
     "output_type": "stream",
     "text": [
      "hello World\n"
     ]
    }
   ],
   "source": [
    "print(\"hello World\")"
   ]
  },
  {
   "cell_type": "markdown",
   "metadata": {},
   "source": [
    "# Welcome to Python workshop\n",
    "## Hello\n",
    "Cell type code to Markdown - ESC + M  Then shift Enter\n",
    "Markdown to code - ESC+Y , then shift enter"
   ]
  },
  {
   "cell_type": "code",
   "execution_count": 3,
   "metadata": {},
   "outputs": [
    {
     "name": "stdout",
     "output_type": "stream",
     "text": [
      " Volume in drive D is LENOVO\n",
      " Volume Serial Number is 0299-ED51\n",
      "\n",
      " Directory of D:\\handson\n",
      "\n",
      "30-06-2021  14:01    <DIR>          .\n",
      "30-06-2021  14:01    <DIR>          ..\n",
      "30-06-2021  13:53    <DIR>          .ipynb_checkpoints\n",
      "30-06-2021  12:57           138,062 air_quality_no2_long.csv\n",
      "29-06-2021  13:36    <DIR>          data\n",
      "28-06-2021  21:14    <DIR>          DAY1\n",
      "28-06-2021  21:13            43,208 DAY1.txt\n",
      "29-06-2021  21:34    <DIR>          DAY2\n",
      "29-06-2021  20:22            22,020 DAY2.txt\n",
      "30-06-2021  04:31    <DIR>          DAY3\n",
      "30-06-2021  11:25                 0 DAY3.txt\n",
      "30-06-2021  13:35    <DIR>          demo_code\n",
      "29-06-2021  10:17            94,208 fake.db\n",
      "30-06-2021  14:01             1,058 first.ipynb\n",
      "30-06-2021  12:29            31,903 pandas_flask_handson.zip\n",
      "30-06-2021  06:31             1,811 quick_server.py\n",
      "30-06-2021  06:26    <DIR>          templates\n",
      "30-06-2021  13:53                72 Untitled.ipynb\n",
      "               9 File(s)        332,342 bytes\n",
      "               9 Dir(s)  13,530,050,560 bytes free\n"
     ]
    }
   ],
   "source": [
    "!dir"
   ]
  },
  {
   "cell_type": "code",
   "execution_count": 4,
   "metadata": {},
   "outputs": [
    {
     "data": {
      "application/json": {
       "cell": {
        "!": "OSMagics",
        "HTML": "Other",
        "SVG": "Other",
        "bash": "Other",
        "capture": "ExecutionMagics",
        "cmd": "Other",
        "debug": "ExecutionMagics",
        "file": "Other",
        "html": "DisplayMagics",
        "javascript": "DisplayMagics",
        "js": "DisplayMagics",
        "latex": "DisplayMagics",
        "markdown": "DisplayMagics",
        "perl": "Other",
        "prun": "ExecutionMagics",
        "pypy": "Other",
        "python": "Other",
        "python2": "Other",
        "python3": "Other",
        "ruby": "Other",
        "script": "ScriptMagics",
        "sh": "Other",
        "svg": "DisplayMagics",
        "sx": "OSMagics",
        "system": "OSMagics",
        "time": "ExecutionMagics",
        "timeit": "ExecutionMagics",
        "writefile": "OSMagics"
       },
       "line": {
        "alias": "OSMagics",
        "alias_magic": "BasicMagics",
        "autocall": "AutoMagics",
        "automagic": "AutoMagics",
        "autosave": "KernelMagics",
        "bookmark": "OSMagics",
        "cd": "OSMagics",
        "clear": "KernelMagics",
        "cls": "KernelMagics",
        "colors": "BasicMagics",
        "config": "ConfigMagics",
        "connect_info": "KernelMagics",
        "copy": "Other",
        "ddir": "Other",
        "debug": "ExecutionMagics",
        "dhist": "OSMagics",
        "dirs": "OSMagics",
        "doctest_mode": "BasicMagics",
        "echo": "Other",
        "ed": "Other",
        "edit": "KernelMagics",
        "env": "OSMagics",
        "gui": "BasicMagics",
        "hist": "Other",
        "history": "HistoryMagics",
        "killbgscripts": "ScriptMagics",
        "ldir": "Other",
        "less": "KernelMagics",
        "load": "CodeMagics",
        "load_ext": "ExtensionMagics",
        "loadpy": "CodeMagics",
        "logoff": "LoggingMagics",
        "logon": "LoggingMagics",
        "logstart": "LoggingMagics",
        "logstate": "LoggingMagics",
        "logstop": "LoggingMagics",
        "ls": "Other",
        "lsmagic": "BasicMagics",
        "macro": "ExecutionMagics",
        "magic": "BasicMagics",
        "matplotlib": "PylabMagics",
        "mkdir": "Other",
        "more": "KernelMagics",
        "notebook": "BasicMagics",
        "page": "BasicMagics",
        "pastebin": "CodeMagics",
        "pdb": "ExecutionMagics",
        "pdef": "NamespaceMagics",
        "pdoc": "NamespaceMagics",
        "pfile": "NamespaceMagics",
        "pinfo": "NamespaceMagics",
        "pinfo2": "NamespaceMagics",
        "pip": "BasicMagics",
        "popd": "OSMagics",
        "pprint": "BasicMagics",
        "precision": "BasicMagics",
        "profile": "BasicMagics",
        "prun": "ExecutionMagics",
        "psearch": "NamespaceMagics",
        "psource": "NamespaceMagics",
        "pushd": "OSMagics",
        "pwd": "OSMagics",
        "pycat": "OSMagics",
        "pylab": "PylabMagics",
        "qtconsole": "KernelMagics",
        "quickref": "BasicMagics",
        "recall": "HistoryMagics",
        "rehashx": "OSMagics",
        "reload_ext": "ExtensionMagics",
        "ren": "Other",
        "rep": "Other",
        "rerun": "HistoryMagics",
        "reset": "NamespaceMagics",
        "reset_selective": "NamespaceMagics",
        "rmdir": "Other",
        "run": "ExecutionMagics",
        "save": "CodeMagics",
        "sc": "OSMagics",
        "set_env": "OSMagics",
        "store": "StoreMagics",
        "sx": "OSMagics",
        "system": "OSMagics",
        "tb": "ExecutionMagics",
        "time": "ExecutionMagics",
        "timeit": "ExecutionMagics",
        "unalias": "OSMagics",
        "unload_ext": "ExtensionMagics",
        "who": "NamespaceMagics",
        "who_ls": "NamespaceMagics",
        "whos": "NamespaceMagics",
        "xdel": "NamespaceMagics",
        "xmode": "BasicMagics"
       }
      },
      "text/plain": [
       "Available line magics:\n",
       "%alias  %alias_magic  %autocall  %automagic  %autosave  %bookmark  %cd  %clear  %cls  %colors  %config  %connect_info  %copy  %ddir  %debug  %dhist  %dirs  %doctest_mode  %echo  %ed  %edit  %env  %gui  %hist  %history  %killbgscripts  %ldir  %less  %load  %load_ext  %loadpy  %logoff  %logon  %logstart  %logstate  %logstop  %ls  %lsmagic  %macro  %magic  %matplotlib  %mkdir  %more  %notebook  %page  %pastebin  %pdb  %pdef  %pdoc  %pfile  %pinfo  %pinfo2  %popd  %pprint  %precision  %profile  %prun  %psearch  %psource  %pushd  %pwd  %pycat  %pylab  %qtconsole  %quickref  %recall  %rehashx  %reload_ext  %ren  %rep  %rerun  %reset  %reset_selective  %rmdir  %run  %save  %sc  %set_env  %store  %sx  %system  %tb  %time  %timeit  %unalias  %unload_ext  %who  %who_ls  %whos  %xdel  %xmode\n",
       "\n",
       "Available cell magics:\n",
       "%%!  %%HTML  %%SVG  %%bash  %%capture  %%cmd  %%debug  %%file  %%html  %%javascript  %%js  %%latex  %%markdown  %%perl  %%prun  %%pypy  %%python  %%python2  %%python3  %%ruby  %%script  %%sh  %%svg  %%sx  %%system  %%time  %%timeit  %%writefile\n",
       "\n",
       "Automagic is ON, % prefix IS NOT needed for line magics."
      ]
     },
     "execution_count": 4,
     "metadata": {},
     "output_type": "execute_result"
    }
   ],
   "source": [
    "%lsmagic"
   ]
  },
  {
   "cell_type": "code",
   "execution_count": 5,
   "metadata": {},
   "outputs": [
    {
     "data": {
      "text/plain": [
       "'D:\\\\handson'"
      ]
     },
     "execution_count": 5,
     "metadata": {},
     "output_type": "execute_result"
    }
   ],
   "source": [
    "%pwd"
   ]
  },
  {
   "cell_type": "code",
   "execution_count": 6,
   "metadata": {},
   "outputs": [
    {
     "data": {
      "text/html": [
       "<html>\n",
       "<body>\n",
       "<table>\n",
       "        <tr> \n",
       "            <th>Name</th> \n",
       "            <th>Country</th> \n",
       "            <th>Age</th> \n",
       "        </tr> \n",
       "        <tr> \n",
       "            <td>Sid</td> \n",
       "            <td>India</td> \n",
       "            <td>22</td> \n",
       "        </tr>\n",
       "        <tr> \n",
       "            <td>Dave</td> \n",
       "            <td>UK</td> \n",
       "            <td>28</td> \n",
       "        </tr>\n",
       "</table>\n",
       "</body>\n",
       "</html>"
      ],
      "text/plain": [
       "<IPython.core.display.HTML object>"
      ]
     },
     "metadata": {},
     "output_type": "display_data"
    }
   ],
   "source": [
    "%%html\n",
    "<html>\n",
    "<body>\n",
    "<table>\n",
    "        <tr> \n",
    "            <th>Name</th> \n",
    "            <th>Country</th> \n",
    "            <th>Age</th> \n",
    "        </tr> \n",
    "        <tr> \n",
    "            <td>Sid</td> \n",
    "            <td>India</td> \n",
    "            <td>22</td> \n",
    "        </tr>\n",
    "        <tr> \n",
    "            <td>Dave</td> \n",
    "            <td>UK</td> \n",
    "            <td>28</td> \n",
    "        </tr>\n",
    "</table>\n",
    "</body>\n",
    "</html>"
   ]
  },
  {
   "cell_type": "markdown",
   "metadata": {},
   "source": [
    "# Numpy"
   ]
  },
  {
   "cell_type": "code",
   "execution_count": 7,
   "metadata": {},
   "outputs": [],
   "source": [
    "n = 100000\n",
    "import numpy as np\n",
    "import pandas as pd\n",
    "import matplotlib.pyplot as plt\n"
   ]
  },
  {
   "cell_type": "code",
   "execution_count": 8,
   "metadata": {},
   "outputs": [],
   "source": [
    "import random\n",
    "x = [random.random() for _ in range(n)]\n",
    "y = [random.random() for _ in range(n)]"
   ]
  },
  {
   "cell_type": "code",
   "execution_count": 9,
   "metadata": {},
   "outputs": [
    {
     "data": {
      "text/plain": [
       "([0.13976017442629507, 0.8745372323020862, 0.6322788950831936],\n",
       " [0.03741630741644375, 0.6527285671947904, 0.5647491021835306])"
      ]
     },
     "execution_count": 9,
     "metadata": {},
     "output_type": "execute_result"
    }
   ],
   "source": [
    "x[:3], y[:3]"
   ]
  },
  {
   "cell_type": "code",
   "execution_count": 10,
   "metadata": {},
   "outputs": [
    {
     "name": "stdout",
     "output_type": "stream",
     "text": [
      "29.5 ms ± 1.55 ms per loop (mean ± std. dev. of 7 runs, 10 loops each)\n"
     ]
    }
   ],
   "source": [
    "%timeit [x[i]+y[i] for i in range(n)]"
   ]
  },
  {
   "cell_type": "code",
   "execution_count": 11,
   "metadata": {},
   "outputs": [],
   "source": [
    "xa = np.array(x)\n",
    "ya = np.array(y)"
   ]
  },
  {
   "cell_type": "code",
   "execution_count": 12,
   "metadata": {},
   "outputs": [
    {
     "name": "stdout",
     "output_type": "stream",
     "text": [
      "197 µs ± 12.6 µs per loop (mean ± std. dev. of 7 runs, 1000 loops each)\n"
     ]
    }
   ],
   "source": [
    "%timeit xa+ya"
   ]
  },
  {
   "cell_type": "markdown",
   "metadata": {},
   "source": [
    "# numpy operations\n",
    "\n",
    "https://numpy.org/doc/stable/reference/"
   ]
  },
  {
   "cell_type": "code",
   "execution_count": 13,
   "metadata": {},
   "outputs": [
    {
     "data": {
      "text/plain": [
       "620"
      ]
     },
     "execution_count": 13,
     "metadata": {},
     "output_type": "execute_result"
    }
   ],
   "source": [
    "len(dir(np))"
   ]
  },
  {
   "cell_type": "code",
   "execution_count": 14,
   "metadata": {},
   "outputs": [],
   "source": [
    "x = np.array([1,3,4])\n",
    "y = np.linspace(2., 3., num=3)\n",
    "z = np.arange(12).reshape(2,6)\n",
    "ru =np.random.random((2,6))\n",
    "rn = np.random.normal( 0,1, (6,4)) # mu, sigma"
   ]
  },
  {
   "cell_type": "code",
   "execution_count": 17,
   "metadata": {},
   "outputs": [
    {
     "name": "stdout",
     "output_type": "stream",
     "text": [
      "x=[1 3 4]\n",
      "y=[2.  2.5 3. ]\n",
      "z=[[ 0  1  2  3  4  5]\n",
      " [ 6  7  8  9 10 11]]\n",
      "ru=[[0.2757758  0.92187527 0.38649672 0.40621038 0.37901984 0.88919691]\n",
      " [0.45234151 0.67567794 0.02075717 0.04432555 0.06146123 0.01938419]]\n",
      "rn=[[ 1.56004153e+00 -1.00444935e+00 -3.69884849e-01 -7.98369755e-01]\n",
      " [ 7.66051075e-02  4.85110290e-01  1.06412344e+00  2.88277152e-01]\n",
      " [-7.16275977e-01  8.90482063e-03 -9.57403093e-01  1.74682488e+00]\n",
      " [ 3.72121528e-01  3.19433263e-01 -4.69647353e-04 -4.70615053e-01]\n",
      " [ 9.48809738e-01 -5.02499530e-01 -5.97861809e-01  5.65978566e-01]\n",
      " [ 7.76076663e-01  1.03272781e-02  3.12371132e-01  1.44423930e-01]]\n"
     ]
    }
   ],
   "source": [
    "print(f\"x={x}\\ny={y}\\nz={z}\\nru={ru}\\nrn={rn}\")"
   ]
  },
  {
   "cell_type": "code",
   "execution_count": 19,
   "metadata": {},
   "outputs": [
    {
     "data": {
      "text/plain": [
       "(2, 6)"
      ]
     },
     "execution_count": 19,
     "metadata": {},
     "output_type": "execute_result"
    }
   ],
   "source": [
    "# metadata\n",
    "x.shape\n",
    "x.ndim\n",
    "z.shape"
   ]
  },
  {
   "cell_type": "code",
   "execution_count": 18,
   "metadata": {},
   "outputs": [
    {
     "data": {
      "text/plain": [
       "2"
      ]
     },
     "execution_count": 18,
     "metadata": {},
     "output_type": "execute_result"
    }
   ],
   "source": [
    "ru.ndim"
   ]
  },
  {
   "cell_type": "code",
   "execution_count": 20,
   "metadata": {},
   "outputs": [
    {
     "data": {
      "text/plain": [
       "(1, 0, array([[0, 1],\n",
       "        [6, 7]]), array([ 3,  4,  5,  6,  7,  8,  9, 10, 11]))"
      ]
     },
     "execution_count": 20,
     "metadata": {},
     "output_type": "execute_result"
    }
   ],
   "source": [
    "x[0], z[0,0],z[:,0:2]"
   ]
  },
  {
   "cell_type": "code",
   "execution_count": 21,
   "metadata": {},
   "outputs": [
    {
     "data": {
      "text/plain": [
       "(array([ 3,  4,  5,  6,  7,  8,  9, 10, 11]), array([3]))"
      ]
     },
     "execution_count": 21,
     "metadata": {},
     "output_type": "execute_result"
    }
   ],
   "source": [
    " z[z>2], z[(z>2)&(z<4)]#and-&, or-|, not-~"
   ]
  },
  {
   "cell_type": "code",
   "execution_count": 22,
   "metadata": {},
   "outputs": [
    {
     "data": {
      "text/plain": [
       "(3,)"
      ]
     },
     "execution_count": 22,
     "metadata": {},
     "output_type": "execute_result"
    }
   ],
   "source": [
    "#how to convert 1D to 2D\n",
    "y.shape"
   ]
  },
  {
   "cell_type": "code",
   "execution_count": 24,
   "metadata": {},
   "outputs": [],
   "source": [
    "y1 = y[:, None]"
   ]
  },
  {
   "cell_type": "code",
   "execution_count": 26,
   "metadata": {},
   "outputs": [
    {
     "data": {
      "text/plain": [
       "(array([[2. ],\n",
       "        [2.5],\n",
       "        [3. ]]), (3, 1))"
      ]
     },
     "execution_count": 26,
     "metadata": {},
     "output_type": "execute_result"
    }
   ],
   "source": [
    "y1, y1.shape"
   ]
  },
  {
   "cell_type": "markdown",
   "metadata": {},
   "source": [
    "## Broadcasting rule\n",
    "1. Shape manipulation \n",
    "   Convert lower rank array's shape to higher rank shape \n",
    "   'by prepending 1'(always prepend)\n",
    "   For example vector with shape (3,) \n",
    "   is converted to rank 2 array as (1,3) or rank 3 as (1,1,3)\n",
    "   array with (2,3) is converted to rank 3 by (1,2,3)\n",
    "\t\t\t\t\t\t\n",
    "2. Compatibility of arrays \n",
    "   Compatible if they have the same size in a dimension, \n",
    "   or if one of the arrays has size 1 in that dimension.\n",
    "   For example , shape (2,3) is compatible with other array \n",
    "   with shape (2,3) or (1,3) or (2,1) or (1,1) or (1,) \n",
    "   then Broadcasting is possible for other array  \n",
    "\n",
    "3. Broadcasting  \n",
    "   If a dimesion is 1 , other dimesions are copied along that dimension \n",
    "   when doing operations between arrays \n",
    "   eg (1,3) is stacked(vert) 2 times to get (2,3) ie np.tile(x13,(2,1)) #(row_times, col_times)\n",
    "   (2,1) is stacked three times(horz) to get (2,3) ie  np.tile(x21, (1,3)) or np.repeat(x21, 3, axis=1) \n",
    "   (1,1) or (1,) can be tiled ie np.tile(x11, (2,3))\n",
    "   #Example:\n",
    "   If a.shape is (5,1), b.shape is (1,6), c.shape is (6,) \n",
    "   and d.shape is () (ie d scalar), \n",
    "   then a, b, c, and d are all broadcastable to dimension (5,6); \n",
    "    •a acts like a (5,6) array where a[:,0] is broadcast to the other columns,\n",
    "    •b acts like a (5,6) array where b[0,:] is broadcast to the other rows,\n",
    "    •c acts like a (1,6) array and therefore like a (5,6) array where c[:] is broadcast to every row\n",
    "    •d acts like a (5,6) array where the single value is repeated."
   ]
  },
  {
   "cell_type": "code",
   "execution_count": 28,
   "metadata": {},
   "outputs": [
    {
     "data": {
      "text/plain": [
       "((3,), (3,), (3, 1))"
      ]
     },
     "execution_count": 28,
     "metadata": {},
     "output_type": "execute_result"
    }
   ],
   "source": [
    "x.shape, y.shape, y1.shape"
   ]
  },
  {
   "cell_type": "code",
   "execution_count": 29,
   "metadata": {},
   "outputs": [
    {
     "data": {
      "text/plain": [
       "array([3. , 5.5, 7. ])"
      ]
     },
     "execution_count": 29,
     "metadata": {},
     "output_type": "execute_result"
    }
   ],
   "source": [
    "x + y"
   ]
  },
  {
   "cell_type": "code",
   "execution_count": 30,
   "metadata": {},
   "outputs": [
    {
     "data": {
      "text/plain": [
       "array([[3. , 5. , 6. ],\n",
       "       [3.5, 5.5, 6.5],\n",
       "       [4. , 6. , 7. ]])"
      ]
     },
     "execution_count": 30,
     "metadata": {},
     "output_type": "execute_result"
    }
   ],
   "source": [
    "x + y1"
   ]
  },
  {
   "cell_type": "code",
   "execution_count": 35,
   "metadata": {},
   "outputs": [
    {
     "data": {
      "text/plain": [
       "array([[1, 3, 4],\n",
       "       [1, 3, 4],\n",
       "       [1, 3, 4]])"
      ]
     },
     "execution_count": 35,
     "metadata": {},
     "output_type": "execute_result"
    }
   ],
   "source": [
    "np.tile(x, (3,1))"
   ]
  },
  {
   "cell_type": "code",
   "execution_count": 36,
   "metadata": {},
   "outputs": [
    {
     "data": {
      "text/plain": [
       "array([[2. , 2. , 2. ],\n",
       "       [2.5, 2.5, 2.5],\n",
       "       [3. , 3. , 3. ]])"
      ]
     },
     "execution_count": 36,
     "metadata": {},
     "output_type": "execute_result"
    }
   ],
   "source": [
    "np.tile(y1, (1,3))"
   ]
  },
  {
   "cell_type": "markdown",
   "metadata": {},
   "source": [
    "## common operations - elementwise"
   ]
  },
  {
   "cell_type": "code",
   "execution_count": 38,
   "metadata": {},
   "outputs": [
    {
     "data": {
      "text/plain": [
       "array([[ 1.56004153e+00,  7.66051075e-02, -7.16275977e-01,\n",
       "         3.72121528e-01,  9.48809738e-01,  7.76076663e-01],\n",
       "       [-1.00444935e+00,  4.85110290e-01,  8.90482063e-03,\n",
       "         3.19433263e-01, -5.02499530e-01,  1.03272781e-02],\n",
       "       [-3.69884849e-01,  1.06412344e+00, -9.57403093e-01,\n",
       "        -4.69647353e-04, -5.97861809e-01,  3.12371132e-01],\n",
       "       [-7.98369755e-01,  2.88277152e-01,  1.74682488e+00,\n",
       "        -4.70615053e-01,  5.65978566e-01,  1.44423930e-01]])"
      ]
     },
     "execution_count": 38,
     "metadata": {},
     "output_type": "execute_result"
    }
   ],
   "source": [
    "np.sqrt(z)\n",
    "x + 2\n",
    "x / y\n",
    "z * ru\n",
    "#matrix\n",
    "np.mat(z) * np.mat(rn)\n",
    "np.mat(rn).I\n",
    "rn.T"
   ]
  },
  {
   "cell_type": "markdown",
   "metadata": {},
   "source": [
    "# understanding axis"
   ]
  },
  {
   "cell_type": "code",
   "execution_count": 39,
   "metadata": {},
   "outputs": [
    {
     "data": {
      "text/plain": [
       "array([[ 0,  1,  2,  3,  4,  5],\n",
       "       [ 6,  7,  8,  9, 10, 11]])"
      ]
     },
     "execution_count": 39,
     "metadata": {},
     "output_type": "execute_result"
    }
   ],
   "source": [
    "z"
   ]
  },
  {
   "cell_type": "code",
   "execution_count": 40,
   "metadata": {
    "scrolled": true
   },
   "outputs": [
    {
     "data": {
      "text/plain": [
       "array([ 6,  8, 10, 12, 14, 16])"
      ]
     },
     "execution_count": 40,
     "metadata": {},
     "output_type": "execute_result"
    }
   ],
   "source": [
    "np.sum(z, axis=0)"
   ]
  },
  {
   "cell_type": "code",
   "execution_count": 41,
   "metadata": {},
   "outputs": [
    {
     "data": {
      "text/plain": [
       "array([15, 51])"
      ]
     },
     "execution_count": 41,
     "metadata": {},
     "output_type": "execute_result"
    }
   ],
   "source": [
    "np.sum(z, axis=1)"
   ]
  },
  {
   "cell_type": "markdown",
   "metadata": {},
   "source": [
    "sum on axis =0, row varying \n",
    " For , np.sum(axis=n),  then dimension n is collapsed and deleted, \n",
    "For example, if b has shape (5,6,7,8), and c = b.sum(axis=2), \n",
    "then axis 2 (dimension with size 7) is collapsed, and the result has shape (5,6,8). \n",
    "c[x,y,z] is equal to the sum of all elements c[x,y,:,z]."
   ]
  },
  {
   "cell_type": "markdown",
   "metadata": {},
   "source": [
    "## stacking"
   ]
  },
  {
   "cell_type": "code",
   "execution_count": 43,
   "metadata": {},
   "outputs": [
    {
     "data": {
      "text/plain": [
       "array([[1, 5],\n",
       "       [2, 6],\n",
       "       [3, 7]])"
      ]
     },
     "execution_count": 43,
     "metadata": {},
     "output_type": "execute_result"
    }
   ],
   "source": [
    "a = np.array([1,2,3])\n",
    "b = np.array([5,6,7])\n",
    "np.c_[a,b]"
   ]
  },
  {
   "cell_type": "code",
   "execution_count": 44,
   "metadata": {},
   "outputs": [
    {
     "data": {
      "text/plain": [
       "array([[1, 5],\n",
       "       [2, 6],\n",
       "       [3, 7]])"
      ]
     },
     "execution_count": 44,
     "metadata": {},
     "output_type": "execute_result"
    }
   ],
   "source": [
    "np.stack((a,b), axis=1)"
   ]
  },
  {
   "cell_type": "code",
   "execution_count": 45,
   "metadata": {},
   "outputs": [
    {
     "data": {
      "text/plain": [
       "array([[1, 2, 3],\n",
       "       [5, 6, 7]])"
      ]
     },
     "execution_count": 45,
     "metadata": {},
     "output_type": "execute_result"
    }
   ],
   "source": [
    "np.stack((a,b), axis=0)"
   ]
  },
  {
   "cell_type": "code",
   "execution_count": 46,
   "metadata": {},
   "outputs": [
    {
     "data": {
      "text/plain": [
       "array([[1, 2, 3],\n",
       "       [5, 6, 7]])"
      ]
     },
     "execution_count": 46,
     "metadata": {},
     "output_type": "execute_result"
    }
   ],
   "source": [
    "np.vstack((a,b))"
   ]
  },
  {
   "cell_type": "code",
   "execution_count": 47,
   "metadata": {},
   "outputs": [
    {
     "data": {
      "text/plain": [
       "array([1, 2, 3, 5, 6, 7])"
      ]
     },
     "execution_count": 47,
     "metadata": {},
     "output_type": "execute_result"
    }
   ],
   "source": [
    "np.hstack((a,b))"
   ]
  },
  {
   "cell_type": "markdown",
   "metadata": {},
   "source": [
    "# numpy usage"
   ]
  },
  {
   "cell_type": "code",
   "execution_count": 48,
   "metadata": {},
   "outputs": [],
   "source": [
    "def f(x):\n",
    "    return 1 - np.sin(x)/x"
   ]
  },
  {
   "cell_type": "code",
   "execution_count": 49,
   "metadata": {},
   "outputs": [],
   "source": [
    "x = np.linspace(-20,20, 1000)\n",
    "y = f(x)"
   ]
  },
  {
   "cell_type": "code",
   "execution_count": 50,
   "metadata": {},
   "outputs": [
    {
     "data": {
      "text/plain": [
       "[<matplotlib.lines.Line2D at 0xddd944b588>]"
      ]
     },
     "execution_count": 50,
     "metadata": {},
     "output_type": "execute_result"
    },
    {
     "data": {
      "image/png": "[encoded data removed]",
      "text/plain": [
       "<Figure size 360x360 with 1 Axes>"
      ]
     },
     "metadata": {},
     "output_type": "display_data"
    }
   ],
   "source": [
    "fig, ax = plt.subplots(1,1, figsize=(5,5))\n",
    "ax.plot(x,y)"
   ]
  },
  {
   "cell_type": "code",
   "execution_count": 51,
   "metadata": {},
   "outputs": [],
   "source": [
    "import scipy.optimize as op"
   ]
  },
  {
   "cell_type": "code",
   "execution_count": 54,
   "metadata": {},
   "outputs": [],
   "source": [
    "x0 = 3\n",
    "xmin = op.minimize(f,x0).x"
   ]
  },
  {
   "cell_type": "code",
   "execution_count": 55,
   "metadata": {},
   "outputs": [
    {
     "data": {
      "text/plain": [
       "array([-1.5538733e-08])"
      ]
     },
     "execution_count": 55,
     "metadata": {},
     "output_type": "execute_result"
    }
   ],
   "source": [
    "xmin\n"
   ]
  },
  {
   "cell_type": "code",
   "execution_count": 57,
   "metadata": {},
   "outputs": [
    {
     "data": {
      "image/png": "[encoded data removed]",
      "text/plain": [
       "<Figure size 360x360 with 1 Axes>"
      ]
     },
     "metadata": {},
     "output_type": "display_data"
    }
   ],
   "source": [
    "fig, ax = plt.subplots(1,1, figsize=(5,5))\n",
    "ax.plot(x,y, 'r+', x, y**2, 'b-')\n",
    "ax.scatter(x0, f(x0), marker='o', s=300)\n",
    "ax.scatter(xmin, f(xmin), marker='v', s=300, zorder=20)\n",
    "ax.set_xlim(-20,20)\n",
    "#plt.show()\n",
    "fig.savefig('plot1.png')"
   ]
  },
  {
   "cell_type": "markdown",
   "metadata": {},
   "source": [
    "## matplotlib options"
   ]
  },
  {
   "cell_type": "code",
   "execution_count": 58,
   "metadata": {},
   "outputs": [
    {
     "name": "stdout",
     "output_type": "stream",
     "text": [
      "\n",
      "character      description \n",
      "'-'             solid line style \n",
      "'--'            dashed line style \n",
      "'-.'            dash-dot line style \n",
      "':'             dotted line style \n",
      "'.'             point marker \n",
      "','             pixel marker \n",
      "'o'             circle marker \n",
      "'v'             triangle_down marker \n",
      "'^'             triangle_up marker \n",
      "'<'             triangle_left marker \n",
      "'>'             triangle_right marker \n",
      "'1'             tri_down marker \n",
      "'2'             tri_up marker \n",
      "'3'             tri_left marker \n",
      "'4'             tri_right marker \n",
      "'s'             square marker \n",
      "'p'             pentagon marker \n",
      "'*'             star marker \n",
      "'h'             hexagon1 marker \n",
      "'H'             hexagon2 marker \n",
      "'+'             plus marker \n",
      "'x'             x marker \n",
      "'D'             diamond marker \n",
      "'d'             thin_diamond marker \n",
      "'|'             vline marker \n",
      "'_'             hline marker \n",
      "\n",
      "character   color \n",
      "'b'         blue \n",
      "'g'         green \n",
      "'r'         red \n",
      "'c'         cyan \n",
      "'m'         magenta \n",
      "'y'         yellow \n",
      "'k'         black \n",
      "'w'         white\n",
      "\n",
      "\n",
      "\n",
      "few Line2D properties that can be passsed to  plt.plot or ax.plot \n",
      "or other plot functions as keyword arg passing \n",
      "\n",
      "To get a list of settable line properties, \n",
      "call the setp() function with a line or lines as argument\n",
      "\n",
      "  agg_filter: a filter function, which takes a (m, n, 3) float array and a dpi value, and returns a (m, n, 3) array\n",
      "  alpha: float or None\n",
      "  animated: bool\n",
      "  antialiased or aa: bool\n",
      "  clip_box: `.Bbox`\n",
      "  clip_on: bool\n",
      "  clip_path: Patch or (Path, Transform) or None\n",
      "  color or c: color\n",
      "  contains: unknown\n",
      "  dash_capstyle: {'butt', 'round', 'projecting'}\n",
      "  dash_joinstyle: {'miter', 'round', 'bevel'}\n",
      "  dashes: sequence of floats (on/off ink in points) or (None, None)\n",
      "  data: (2, N) array or two 1D arrays\n",
      "  drawstyle or ds: {'default', 'steps', 'steps-pre', 'steps-mid', 'steps-post'}, default: 'default'\n",
      "  figure: `.Figure`\n",
      "  fillstyle: {'full', 'left', 'right', 'bottom', 'top', 'none'}\n",
      "  gid: str\n",
      "  in_layout: bool\n",
      "  label: object\n",
      "  linestyle or ls: {'-', '--', '-.', ':', '', (offset, on-off-seq), ...}\n",
      "  linewidth or lw: float\n",
      "  marker: marker style string, `~.path.Path` or `~.markers.MarkerStyle`\n",
      "  markeredgecolor or mec: color\n",
      "  markeredgewidth or mew: float\n",
      "  markerfacecolor or mfc: color\n",
      "  markerfacecoloralt or mfcalt: color\n",
      "  markersize or ms: float\n",
      "  markevery: None or int or (int, int) or slice or List[int] or float or (float, float) or List[bool]\n",
      "  path_effects: `.AbstractPathEffect`\n",
      "  picker: unknown\n",
      "  pickradius: float\n",
      "  rasterized: bool or None\n",
      "  sketch_params: (scale: float, length: float, randomness: float)\n",
      "  snap: bool or None\n",
      "  solid_capstyle: {'butt', 'round', 'projecting'}\n",
      "  solid_joinstyle: {'miter', 'round', 'bevel'}\n",
      "  transform: `matplotlib.transforms.Transform`\n",
      "  url: str\n",
      "  visible: bool\n",
      "  xdata: 1D array\n",
      "  ydata: 1D array\n",
      "  zorder: float\n",
      "\n",
      "\n",
      "Main Kewords:\n",
      "----------------\n",
      "color or c              \n",
      "    any matplotlib color \n",
      "label                   \n",
      "    string or anything printable with '%s' conversion. \n",
      "linestyle or ls         \n",
      "    ['solid' | 'dashed', 'dashdot', 'dotted' | (offset, on-off-dash-seq) | '-' | '--' | '-.' | ':' | 'None' | ' ' | ''] \n",
      "linewidth or lw         \n",
      "    float value in points \n",
      "\n",
      "    \n",
      "Setting of options \n",
      "---------------------------\n",
      "#Option-1 Use keyword args:\n",
      "plt.plot(t, t, linewidth=2.0)\n",
      "\n",
      "#Option-2: Use the setter methods of Line2D\n",
      "line1, line2 = plt.plot(t, t**2, t, t**3 ) #x1,y1,x2,y2\n",
      "line1.set_antialiased(False)  # turn off antialising\n",
      "\n",
      "#Option-3: Use the setp() command\n",
      "lines = plt.plot(t, t**2, t, t**3 )\n",
      "# use keyword args\n",
      "plt.setp(lines, color='r', linewidth=2.0)\n",
      "# or MATLAB style string value pairs\n",
      "plt.setp(lines, 'color', 'r', 'linewidth', 2.0)\n",
      "\n",
      "\n",
      "\n",
      "##Specifying matplotlib.colors\n",
      "#Only For the below basic colors, use a single letter\n",
      "b: blue,g: green,r: red,c: cyan,m: magenta,y: yellow,k: black w: white\n",
      "\n",
      "#All examples of colors \n",
      "#https://matplotlib.org/examples/color/named_colors.html\n",
      "\n",
      "#Gray shades can be given as a string encoding a float in the 0-1 range, e.g.:\n",
      "color = '0.75'\n",
      "\n",
      "#can specify the color using an html hex string(RGB or RGBA), as in:\n",
      "color = '#eeefff' or '#0F0F0F0F'\n",
      "\n",
      "#or you can pass an R , G , B tuple, or RGBA \n",
      "#where each of R , G , B are in the range [0,1].\n",
      "color = (0.5,0.5,0.5) or (0.1, 0.2, 0.5, 0.3));\n",
      "\n",
      "#Or use legal html names for colors, like 'red, 'burlywood and 'chartreuse'\n",
      "#https://www.w3schools.com/tags/ref_colornames.asp\n",
      "color = 'burlywood'\n",
      "\n"
     ]
    },
    {
     "data": {
      "image/png": "[encoded data removed]",
      "text/plain": [
       "<Figure size 432x288 with 1 Axes>"
      ]
     },
     "metadata": {},
     "output_type": "display_data"
    }
   ],
   "source": [
    "%run demo_code/0.2.plt_options.py"
   ]
  },
  {
   "cell_type": "markdown",
   "metadata": {},
   "source": [
    "## subplots\n",
    "https://matplotlib.org/3.1.1/api/pyplot_summary.html"
   ]
  },
  {
   "cell_type": "code",
   "execution_count": 64,
   "metadata": {},
   "outputs": [
    {
     "data": {
      "image/png": "[encoded data removed]",
      "text/plain": [
       "<Figure size 432x288 with 2 Axes>"
      ]
     },
     "metadata": {},
     "output_type": "display_data"
    }
   ],
   "source": [
    "%matplotlib inline\n",
    "t = np.arange(0., 5., 0.2)\n",
    "#fig = window, subplot- Axes \n",
    "fig, (ax1,ax2)= plt.subplots(nrows=1, ncols=2)\n",
    "fig.suptitle(\"Multiplot\", fontsize=16)\n",
    "ax1.plot(t,t,'r-', t,t**2, 'b-')\n",
    "ax1.set_title(\"first plot\")\n",
    "ax2.scatter(t, t**2, color='b')\n",
    "ax2.set_xlabel('X axis label')\n",
    "ax2.set_ylabel('Y axis label')\n",
    "ax2.axis([0,5,0,25])\n",
    "ax2.text(2,4,r'$\\mu=100,\\ \\sigma=15$')\n",
    "fig.tight_layout()\n",
    "plt.show()\n"
   ]
  },
  {
   "cell_type": "code",
   "execution_count": 61,
   "metadata": {},
   "outputs": [
    {
     "name": "stdout",
     "output_type": "stream",
     "text": [
      "Available matplotlib backends: ['tk', 'gtk', 'gtk3', 'wx', 'qt4', 'qt5', 'qt', 'osx', 'nbagg', 'notebook', 'agg', 'inline', 'ipympl', 'widget']\n"
     ]
    }
   ],
   "source": [
    "%matplotlib --list"
   ]
  },
  {
   "cell_type": "code",
   "execution_count": 65,
   "metadata": {},
   "outputs": [
    {
     "data": {
      "image/png": "[encoded data removed]",
      "text/plain": [
       "<Figure size 432x288 with 4 Axes>"
      ]
     },
     "metadata": {},
     "output_type": "display_data"
    }
   ],
   "source": [
    "#four plots \n",
    "t = np.arange(0.0, 5.0, 0.2)\n",
    "fig, axs = plt.subplots(2,2)  #axs.shape = (2,2)\n",
    "#fig, ((ax1,ax2),(ax3,ax4)) = plt.subplots(2,2)  #axs.shape = (2,2)\n",
    "fig.suptitle('multiplot', fontsize=16)\n",
    "axs[0,0].plot(t,t, 'r-')\n",
    "axs[0,1].scatter(t, t**2, color='b')\n",
    "axs[0,1].set_xlabel(\"x axis\", loc='left')\n",
    "axs[0,1].set_ylabel(\"y axis\")\n",
    "axs[1,0].plot(t,np.sin(t), lw=2)\n",
    "axs[1,0].set_title(\"sin plot\", pad=5)\n",
    "axs[1,1].plot(t[t>0], np.log(t[t>0]), color='burlywood')\n",
    "axs[1,1].legend(['log line'])\n",
    "#adjusting \n",
    "fig.tight_layout()  # default values , automatically adjusts\n",
    "#fig.tight_layout(pad=+ or - N) , + squeezes each plot, - expands \n",
    "#then show \n",
    "plt.show()"
   ]
  },
  {
   "cell_type": "markdown",
   "metadata": {},
   "source": [
    "## Handson"
   ]
  },
  {
   "cell_type": "markdown",
   "metadata": {},
   "source": [
    "The Lévi function is one of the many test functions for optimization \n",
    "that researchers have developed to study and benchmark optimization algorithms \n",
    "(https://en.wikipedia.org/wiki/Test_functions_for_optimization):\n",
    "$$f(x,y) = sin^2(3\\pi x)+(x−1)^2(1+sin^2(3\\pi y))+(y−1)^2(1+sin^2(2\\pi y))$$\n",
    "\n",
    "Use \n",
    "https://numpy.org/doc/stable/reference/generated/numpy.mgrid.html\n",
    "\n",
    "*HANDSON*\n",
    "Find out Z=f(x,y) on [−10,10] "
   ]
  },
  {
   "cell_type": "code",
   "execution_count": 66,
   "metadata": {},
   "outputs": [
    {
     "data": {
      "text/plain": [
       "3.141592653589793"
      ]
     },
     "execution_count": 66,
     "metadata": {},
     "output_type": "execute_result"
    }
   ],
   "source": [
    "np.pi"
   ]
  },
  {
   "cell_type": "code",
   "execution_count": null,
   "metadata": {},
   "outputs": [],
   "source": []
  }
 ],
 "metadata": {
  "kernelspec": {
   "display_name": "Python 3",
   "language": "python",
   "name": "python3"
  },
  "language_info": {
   "codemirror_mode": {
    "name": "ipython",
    "version": 3
   },
   "file_extension": ".py",
   "mimetype": "text/x-python",
   "name": "python",
   "nbconvert_exporter": "python",
   "pygments_lexer": "ipython3",
   "version": "3.7.6"
  }
 },
 "nbformat": 4,
 "nbformat_minor": 2
}
