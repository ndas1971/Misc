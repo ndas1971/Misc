{
 "cells": [
  {
   "cell_type": "code",
   "execution_count": 2,
   "metadata": {},
   "outputs": [],
   "source": [
    "import numpy as np\n",
    "import pandas as pd\n",
    "import matplotlib.pyplot as plt"
   ]
  },
  {
   "cell_type": "code",
   "execution_count": 5,
   "metadata": {},
   "outputs": [],
   "source": [
    "k = 10 \n",
    "n = 50\n",
    "X, Y = np.mgrid[-k:k:n, -k:k:n]"
   ]
  },
  {
   "cell_type": "markdown",
   "metadata": {},
   "source": [
    "if the step length is a complex number (e.g. 5j), \n",
    "then the integer part of its magnitude is interpreted \n",
    "as specifying the number of points to create between the start and stop values, \n",
    "where the stop value is inclusive."
   ]
  },
  {
   "cell_type": "code",
   "execution_count": 6,
   "metadata": {},
   "outputs": [
    {
     "data": {
      "text/plain": [
       "array([[-10]])"
      ]
     },
     "execution_count": 6,
     "metadata": {},
     "output_type": "execute_result"
    }
   ],
   "source": [
    "X"
   ]
  },
  {
   "cell_type": "code",
   "execution_count": 9,
   "metadata": {},
   "outputs": [
    {
     "data": {
      "text/plain": [
       "array([[[-5, -5, -5, -5, -5, -5],\n",
       "        [-4, -4, -4, -4, -4, -4],\n",
       "        [-3, -3, -3, -3, -3, -3],\n",
       "        [-2, -2, -2, -2, -2, -2],\n",
       "        [-1, -1, -1, -1, -1, -1],\n",
       "        [ 0,  0,  0,  0,  0,  0],\n",
       "        [ 1,  1,  1,  1,  1,  1],\n",
       "        [ 2,  2,  2,  2,  2,  2],\n",
       "        [ 3,  3,  3,  3,  3,  3],\n",
       "        [ 4,  4,  4,  4,  4,  4]],\n",
       "\n",
       "       [[-1,  0,  1,  2,  3,  4],\n",
       "        [-1,  0,  1,  2,  3,  4],\n",
       "        [-1,  0,  1,  2,  3,  4],\n",
       "        [-1,  0,  1,  2,  3,  4],\n",
       "        [-1,  0,  1,  2,  3,  4],\n",
       "        [-1,  0,  1,  2,  3,  4],\n",
       "        [-1,  0,  1,  2,  3,  4],\n",
       "        [-1,  0,  1,  2,  3,  4],\n",
       "        [-1,  0,  1,  2,  3,  4],\n",
       "        [-1,  0,  1,  2,  3,  4]]])"
      ]
     },
     "execution_count": 9,
     "metadata": {},
     "output_type": "execute_result"
    }
   ],
   "source": [
    "np.mgrid[-5:5,-1:5]"
   ]
  },
  {
   "cell_type": "code",
   "execution_count": 10,
   "metadata": {},
   "outputs": [],
   "source": [
    "from sqlalchemy import create_engine, text"
   ]
  },
  {
   "cell_type": "code",
   "execution_count": 13,
   "metadata": {},
   "outputs": [],
   "source": [
    "eng = create_engine(\"sqlite:///DAY3/fake.db\") "
   ]
  },
  {
   "cell_type": "markdown",
   "metadata": {},
   "source": [
    "df_fake_data = pd.read_sql(\"people\",  con=eng)\n",
    "df_fake_data.drop(columns=['id'], inplace=True)\n",
    "df_fake_data['dob'] = pd.to_datetime(df_fake_data.dob, format='%Y-%m-%d')\n",
    "df_fake_data['dob'].dt.year.head()\n"
   ]
  },
  {
   "cell_type": "code",
   "execution_count": 20,
   "metadata": {},
   "outputs": [
    {
     "data": {
      "text/plain": [
       "0    1997\n",
       "1    1979\n",
       "2    2001\n",
       "3    1973\n",
       "4    2008\n",
       "Name: dob, dtype: int64"
      ]
     },
     "execution_count": 20,
     "metadata": {},
     "output_type": "execute_result"
    }
   ],
   "source": [
    "df_fake_data = pd.read_sql(\"people\",  con=eng)\n",
    "df_fake_data.head()\n",
    "df_fake_data.drop(columns=['id'], inplace=True)\n",
    "df_fake_data['dob'] = pd.to_datetime(df_fake_data.dob, format='%Y-%m-%d')\n",
    "df_fake_data['dob'].dt.year.head()"
   ]
  },
  {
   "cell_type": "code",
   "execution_count": 22,
   "metadata": {},
   "outputs": [
    {
     "ename": "NameError",
     "evalue": "name 'date' is not defined",
     "output_type": "error",
     "traceback": [
      "\u001b[1;31m---------------------------------------------------------------------------\u001b[0m",
      "\u001b[1;31mNameError\u001b[0m                                 Traceback (most recent call last)",
      "\u001b[1;32m<ipython-input-22-4030baf07a5f>\u001b[0m in \u001b[0;36m<module>\u001b[1;34m()\u001b[0m\n\u001b[0;32m      5\u001b[0m \u001b[0mout_df\u001b[0m \u001b[1;33m=\u001b[0m \u001b[1;33m{\u001b[0m\u001b[1;33m}\u001b[0m\u001b[1;33m\u001b[0m\u001b[1;33m\u001b[0m\u001b[0m\n\u001b[0;32m      6\u001b[0m \u001b[1;32mfor\u001b[0m \u001b[0mstart\u001b[0m\u001b[1;33m,\u001b[0m \u001b[0mend\u001b[0m \u001b[1;32min\u001b[0m \u001b[0mzip\u001b[0m\u001b[1;33m(\u001b[0m\u001b[0mst\u001b[0m\u001b[1;33m,\u001b[0m\u001b[0men\u001b[0m\u001b[1;33m)\u001b[0m\u001b[1;33m:\u001b[0m\u001b[1;33m\u001b[0m\u001b[1;33m\u001b[0m\u001b[0m\n\u001b[1;32m----> 7\u001b[1;33m     \u001b[0mstart_pd\u001b[0m \u001b[1;33m=\u001b[0m \u001b[0mpd\u001b[0m\u001b[1;33m.\u001b[0m\u001b[0mto_datetime\u001b[0m\u001b[1;33m(\u001b[0m\u001b[0mdate\u001b[0m\u001b[1;33m(\u001b[0m\u001b[0mstart\u001b[0m\u001b[1;33m,\u001b[0m\u001b[1;36m1\u001b[0m\u001b[1;33m,\u001b[0m\u001b[1;36m1\u001b[0m\u001b[1;33m)\u001b[0m\u001b[1;33m)\u001b[0m\u001b[1;33m\u001b[0m\u001b[1;33m\u001b[0m\u001b[0m\n\u001b[0m\u001b[0;32m      8\u001b[0m     \u001b[0mend_pd\u001b[0m \u001b[1;33m=\u001b[0m \u001b[0mpd\u001b[0m\u001b[1;33m.\u001b[0m\u001b[0mto_datetime\u001b[0m\u001b[1;33m(\u001b[0m\u001b[0mdate\u001b[0m\u001b[1;33m(\u001b[0m\u001b[0mend\u001b[0m\u001b[1;33m-\u001b[0m\u001b[1;36m1\u001b[0m\u001b[1;33m,\u001b[0m\u001b[1;36m12\u001b[0m\u001b[1;33m,\u001b[0m\u001b[1;36m31\u001b[0m\u001b[1;33m)\u001b[0m\u001b[1;33m)\u001b[0m\u001b[1;33m\u001b[0m\u001b[1;33m\u001b[0m\u001b[0m\n\u001b[0;32m      9\u001b[0m     \u001b[0mgrp\u001b[0m \u001b[1;33m=\u001b[0m \u001b[0mdf_fake_data\u001b[0m\u001b[1;33m.\u001b[0m\u001b[0mloc\u001b[0m\u001b[1;33m[\u001b[0m\u001b[1;33m(\u001b[0m\u001b[0mdf_fake_data\u001b[0m\u001b[1;33m[\u001b[0m\u001b[1;34m'dob'\u001b[0m\u001b[1;33m]\u001b[0m \u001b[1;33m>=\u001b[0m \u001b[0mstart_pd\u001b[0m\u001b[1;33m)\u001b[0m \u001b[1;33m&\u001b[0m \u001b[1;33m(\u001b[0m\u001b[0mdf_fake_data\u001b[0m\u001b[1;33m[\u001b[0m\u001b[1;34m'dob'\u001b[0m\u001b[1;33m]\u001b[0m \u001b[1;33m<\u001b[0m \u001b[0mend_pd\u001b[0m \u001b[1;33m)\u001b[0m\u001b[1;33m,\u001b[0m \u001b[1;33m[\u001b[0m\u001b[1;34m'country'\u001b[0m\u001b[1;33m,\u001b[0m \u001b[1;34m'dob'\u001b[0m\u001b[1;33m]\u001b[0m\u001b[1;33m]\u001b[0m\u001b[1;33m.\u001b[0m\u001b[0mgroupby\u001b[0m\u001b[1;33m(\u001b[0m\u001b[1;34m'country'\u001b[0m\u001b[1;33m)\u001b[0m\u001b[1;33m\u001b[0m\u001b[1;33m\u001b[0m\u001b[0m\n",
      "\u001b[1;31mNameError\u001b[0m: name 'date' is not defined"
     ]
    }
   ],
   "source": [
    "from datetime import date \n",
    "step, howmany = 5, 5\n",
    "start_year = 1990\n",
    "st = [start_year+i*step  for i in range(howmany)]\n",
    "en = [start_year+(i+1)*step  for i in range(howmany)]\n",
    "out_df = {}\n",
    "for start, end in zip(st,en):\n",
    "    start_pd = pd.to_datetime(date(start,1,1))\n",
    "    end_pd = pd.to_datetime(date(end-1,12,31))\n",
    "    grp = df_fake_data.loc[(df_fake_data['dob'] >= start_pd) & (df_fake_data['dob'] < end_pd ), ['country', 'dob']].groupby('country')\n",
    "    out_df[(start,end-1)] = grp.count().reset_index().values.tolist()"
   ]
  },
  {
   "cell_type": "code",
   "execution_count": null,
   "metadata": {},
   "outputs": [],
   "source": []
  }
 ],
 "metadata": {
  "kernelspec": {
   "display_name": "Python 3",
   "language": "python",
   "name": "python3"
  },
  "language_info": {
   "codemirror_mode": {
    "name": "ipython",
    "version": 3
   },
   "file_extension": ".py",
   "mimetype": "text/x-python",
   "name": "python",
   "nbconvert_exporter": "python",
   "pygments_lexer": "ipython3",
   "version": "3.7.6"
  }
 },
 "nbformat": 4,
 "nbformat_minor": 2
}
