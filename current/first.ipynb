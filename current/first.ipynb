{
 "cells": [
  {
   "cell_type": "code",
   "execution_count": 2,
   "metadata": {},
   "outputs": [],
   "source": [
    "import numpy as np\n",
    "import pandas as pd\n",
    "import matplotlib.pyplot as plt"
   ]
  },
  {
   "cell_type": "code",
   "execution_count": 5,
   "metadata": {},
   "outputs": [],
   "source": [
    "k = 10 \n",
    "n = 50\n",
    "X, Y = np.mgrid[-k:k:n, -k:k:n]"
   ]
  },
  {
   "cell_type": "markdown",
   "metadata": {},
   "source": [
    "if the step length is a complex number (e.g. 5j), \n",
    "then the integer part of its magnitude is interpreted \n",
    "as specifying the number of points to create between the start and stop values, \n",
    "where the stop value is inclusive."
   ]
  },
  {
   "cell_type": "code",
   "execution_count": 6,
   "metadata": {},
   "outputs": [
    {
     "data": {
      "text/plain": [
       "array([[-10]])"
      ]
     },
     "execution_count": 6,
     "metadata": {},
     "output_type": "execute_result"
    }
   ],
   "source": [
    "X"
   ]
  },
  {
   "cell_type": "code",
   "execution_count": 9,
   "metadata": {},
   "outputs": [
    {
     "data": {
      "text/plain": [
       "array([[[-5, -5, -5, -5, -5, -5],\n",
       "        [-4, -4, -4, -4, -4, -4],\n",
       "        [-3, -3, -3, -3, -3, -3],\n",
       "        [-2, -2, -2, -2, -2, -2],\n",
       "        [-1, -1, -1, -1, -1, -1],\n",
       "        [ 0,  0,  0,  0,  0,  0],\n",
       "        [ 1,  1,  1,  1,  1,  1],\n",
       "        [ 2,  2,  2,  2,  2,  2],\n",
       "        [ 3,  3,  3,  3,  3,  3],\n",
       "        [ 4,  4,  4,  4,  4,  4]],\n",
       "\n",
       "       [[-1,  0,  1,  2,  3,  4],\n",
       "        [-1,  0,  1,  2,  3,  4],\n",
       "        [-1,  0,  1,  2,  3,  4],\n",
       "        [-1,  0,  1,  2,  3,  4],\n",
       "        [-1,  0,  1,  2,  3,  4],\n",
       "        [-1,  0,  1,  2,  3,  4],\n",
       "        [-1,  0,  1,  2,  3,  4],\n",
       "        [-1,  0,  1,  2,  3,  4],\n",
       "        [-1,  0,  1,  2,  3,  4],\n",
       "        [-1,  0,  1,  2,  3,  4]]])"
      ]
     },
     "execution_count": 9,
     "metadata": {},
     "output_type": "execute_result"
    }
   ],
   "source": [
    "np.mgrid[-5:5,-1:5]"
   ]
  },
  {
   "cell_type": "code",
   "execution_count": 10,
   "metadata": {},
   "outputs": [],
   "source": [
    "from sqlalchemy import create_engine, text"
   ]
  },
  {
   "cell_type": "code",
   "execution_count": 13,
   "metadata": {},
   "outputs": [],
   "source": [
    "eng = create_engine(\"sqlite:///DAY3/fake.db\") "
   ]
  },
  {
   "cell_type": "code",
   "execution_count": 14,
   "metadata": {},
   "outputs": [],
   "source": [
    "df_fake_data = pd.read_sql(\"people\",  con=eng)"
   ]
  },
  {
   "cell_type": "code",
   "execution_count": 16,
   "metadata": {},
   "outputs": [
    {
     "data": {
      "text/html": [
       "<div>\n",
       "<style scoped>\n",
       "    .dataframe tbody tr th:only-of-type {\n",
       "        vertical-align: middle;\n",
       "    }\n",
       "\n",
       "    .dataframe tbody tr th {\n",
       "        vertical-align: top;\n",
       "    }\n",
       "\n",
       "    .dataframe thead th {\n",
       "        text-align: right;\n",
       "    }\n",
       "</style>\n",
       "<table border=\"1\" class=\"dataframe\">\n",
       "  <thead>\n",
       "    <tr style=\"text-align: right;\">\n",
       "      <th></th>\n",
       "      <th>first_name</th>\n",
       "      <th>last_name</th>\n",
       "      <th>occupation</th>\n",
       "      <th>dob</th>\n",
       "      <th>country</th>\n",
       "    </tr>\n",
       "  </thead>\n",
       "  <tbody>\n",
       "    <tr>\n",
       "      <th>0</th>\n",
       "      <td>Jason</td>\n",
       "      <td>Flores</td>\n",
       "      <td>Lecturer, further education</td>\n",
       "      <td>1997-05-18</td>\n",
       "      <td>Israel</td>\n",
       "    </tr>\n",
       "    <tr>\n",
       "      <th>1</th>\n",
       "      <td>Robert</td>\n",
       "      <td>Alvarez</td>\n",
       "      <td>Technical sales engineer</td>\n",
       "      <td>1979-11-22</td>\n",
       "      <td>Gambia</td>\n",
       "    </tr>\n",
       "    <tr>\n",
       "      <th>2</th>\n",
       "      <td>Ashley</td>\n",
       "      <td>Scott</td>\n",
       "      <td>Computer games developer</td>\n",
       "      <td>2001-07-28</td>\n",
       "      <td>United States Virgin Islands</td>\n",
       "    </tr>\n",
       "    <tr>\n",
       "      <th>3</th>\n",
       "      <td>Adam</td>\n",
       "      <td>Ramos</td>\n",
       "      <td>Further education lecturer</td>\n",
       "      <td>1973-04-08</td>\n",
       "      <td>Thailand</td>\n",
       "    </tr>\n",
       "    <tr>\n",
       "      <th>4</th>\n",
       "      <td>Scott</td>\n",
       "      <td>Moore</td>\n",
       "      <td>Field trials officer</td>\n",
       "      <td>2008-01-16</td>\n",
       "      <td>Cape Verde</td>\n",
       "    </tr>\n",
       "  </tbody>\n",
       "</table>\n",
       "</div>"
      ],
      "text/plain": [
       "  first_name last_name                   occupation        dob  \\\n",
       "0      Jason    Flores  Lecturer, further education 1997-05-18   \n",
       "1     Robert   Alvarez     Technical sales engineer 1979-11-22   \n",
       "2     Ashley     Scott     Computer games developer 2001-07-28   \n",
       "3       Adam     Ramos   Further education lecturer 1973-04-08   \n",
       "4      Scott     Moore         Field trials officer 2008-01-16   \n",
       "\n",
       "                        country  \n",
       "0                        Israel  \n",
       "1                        Gambia  \n",
       "2  United States Virgin Islands  \n",
       "3                      Thailand  \n",
       "4                    Cape Verde  "
      ]
     },
     "execution_count": 16,
     "metadata": {},
     "output_type": "execute_result"
    }
   ],
   "source": [
    "df_fake_data.drop(columns=['id'], inplace=True)\n",
    "df_fake_data['dob'] = pd.to_datetime(df_fake_data.dob, format='%Y-%m-%d')\n",
    "df_fake_data['dob'].dt.year\n",
    "df_fake_data.head()"
   ]
  },
  {
   "cell_type": "code",
   "execution_count": null,
   "metadata": {},
   "outputs": [],
   "source": []
  }
 ],
 "metadata": {
  "kernelspec": {
   "display_name": "Python 3",
   "language": "python",
   "name": "python3"
  },
  "language_info": {
   "codemirror_mode": {
    "name": "ipython",
    "version": 3
   },
   "file_extension": ".py",
   "mimetype": "text/x-python",
   "name": "python",
   "nbconvert_exporter": "python",
   "pygments_lexer": "ipython3",
   "version": "3.7.6"
  }
 },
 "nbformat": 4,
 "nbformat_minor": 2
}
