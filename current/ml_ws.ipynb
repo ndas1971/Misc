{
 "cells": [
  {
   "cell_type": "code",
   "execution_count": 1,
   "metadata": {},
   "outputs": [],
   "source": [
    "from sklearn.pipeline import * \n",
    "from sklearn.naive_bayes import * \n",
    "from sklearn.cluster import *  \n",
    "from sklearn.covariance import *  \n",
    "from sklearn.cross_decomposition import *  \n",
    "from sklearn.datasets import *  \n",
    "from sklearn.decomposition import *  \n",
    "from sklearn.ensemble import *  \n",
    "from sklearn.feature_extraction import *  \n",
    "from sklearn.feature_extraction.text import *  \n",
    "from sklearn.feature_selection import *  \n",
    "from sklearn.gaussian_process import *  \n",
    "from sklearn.linear_model import *  \n",
    "from sklearn.manifold import *  \n",
    "from sklearn.metrics import *  \n",
    "from sklearn.mixture import *  \n",
    "from sklearn.model_selection import *  \n",
    "from sklearn.neighbors import *  \n",
    "from sklearn.neural_network import *  \n",
    "from sklearn.preprocessing import *  \n",
    "#from sklearn_pandas import DataFrameMapper\n",
    "from sklearn.svm import *  \n",
    "from sklearn.tree import *  \n",
    "\n",
    "import pandas as pd \n",
    "import numpy as np\n",
    "import matplotlib.pyplot as plt\n"
   ]
  },
  {
   "cell_type": "code",
   "execution_count": null,
   "metadata": {},
   "outputs": [],
   "source": []
  }
 ],
 "metadata": {
  "kernelspec": {
   "display_name": "Python 3",
   "language": "python",
   "name": "python3"
  },
  "language_info": {
   "codemirror_mode": {
    "name": "ipython",
    "version": 3
   },
   "file_extension": ".py",
   "mimetype": "text/x-python",
   "name": "python",
   "nbconvert_exporter": "python",
   "pygments_lexer": "ipython3",
   "version": "3.7.6"
  }
 },
 "nbformat": 4,
 "nbformat_minor": 2
}
