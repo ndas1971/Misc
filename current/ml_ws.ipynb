{
 "cells": [
  {
   "cell_type": "code",
   "execution_count": 2,
   "metadata": {},
   "outputs": [],
   "source": [
    "from sklearn.pipeline import * \n",
    "from sklearn.naive_bayes import * \n",
    "from sklearn.cluster import *  \n",
    "from sklearn.covariance import *  \n",
    "from sklearn.cross_decomposition import *  \n",
    "from sklearn.datasets import *  \n",
    "from sklearn.decomposition import *  \n",
    "from sklearn.ensemble import *  \n",
    "from sklearn.feature_extraction import *  \n",
    "from sklearn.feature_extraction.text import *  \n",
    "from sklearn.feature_selection import *  \n",
    "from sklearn.gaussian_process import *  \n",
    "from sklearn.linear_model import *  \n",
    "from sklearn.manifold import *  \n",
    "from sklearn.metrics import *  \n",
    "from sklearn.mixture import *  \n",
    "from sklearn.model_selection import *  \n",
    "from sklearn.neighbors import *  \n",
    "from sklearn.neural_network import *  \n",
    "from sklearn.preprocessing import *  \n",
    "#from sklearn_pandas import DataFrameMapper\n",
    "from sklearn.svm import *  \n",
    "from sklearn.tree import *  \n",
    "\n",
    "import pandas as pd \n",
    "import numpy as np\n",
    "import matplotlib.pyplot as plt\n"
   ]
  },
  {
   "cell_type": "code",
   "execution_count": 12,
   "metadata": {},
   "outputs": [],
   "source": [
    "iris = load_iris()\n",
    "X = iris.data\n",
    "y = iris.target"
   ]
  },
  {
   "cell_type": "code",
   "execution_count": 9,
   "metadata": {},
   "outputs": [
    {
     "data": {
      "text/plain": [
       "array([0, 0, 0, 0, 0, 0, 0, 0, 0, 0, 0, 0, 0, 0, 0, 0, 0, 0, 0, 0, 0, 0,\n",
       "       0, 0, 0, 0, 0, 0, 0, 0, 0, 0, 0, 0, 0, 0, 0, 0, 0, 0, 0, 0, 0, 0,\n",
       "       0, 0, 0, 0, 0, 0, 1, 1, 1, 1, 1, 1, 1, 1, 1, 1, 1, 1, 1, 1, 1, 1,\n",
       "       1, 1, 1, 1, 1, 1, 1, 1, 1, 1, 1, 1, 1, 1, 1, 1, 1, 1, 1, 1, 1, 1,\n",
       "       1, 1, 1, 1, 1, 1, 1, 1, 1, 1, 1, 1, 2, 2, 2, 2, 2, 2, 2, 2, 2, 2,\n",
       "       2, 2, 2, 2, 2, 2, 2, 2, 2, 2, 2, 2, 2, 2, 2, 2, 2, 2, 2, 2, 2, 2,\n",
       "       2, 2, 2, 2, 2, 2, 2, 2, 2, 2, 2, 2, 2, 2, 2, 2, 2, 2])"
      ]
     },
     "execution_count": 9,
     "metadata": {},
     "output_type": "execute_result"
    }
   ],
   "source": [
    "#dir(iris), iris.data, iris.feature_names, iris.target_names\n",
    "#print(iris.DESCR)\n",
    "iris.target"
   ]
  },
  {
   "cell_type": "code",
   "execution_count": 13,
   "metadata": {},
   "outputs": [],
   "source": [
    "pca = PCA(n_components=2)"
   ]
  },
  {
   "cell_type": "code",
   "execution_count": 15,
   "metadata": {},
   "outputs": [
    {
     "data": {
      "text/plain": [
       "((150, 4), (150, 2))"
      ]
     },
     "execution_count": 15,
     "metadata": {},
     "output_type": "execute_result"
    }
   ],
   "source": [
    "#preprocessing - fit and then transform \n",
    "X_r = pca.fit(X).transform(X) # convert 4Fs to 2Fs\n",
    "X.shape, X_r.shape"
   ]
  },
  {
   "cell_type": "code",
   "execution_count": 18,
   "metadata": {},
   "outputs": [
    {
     "name": "stdout",
     "output_type": "stream",
     "text": [
      "explained variance ratio [0.92461872 0.05306648]\n"
     ]
    }
   ],
   "source": [
    "print(\"explained variance ratio\", pca.explained_variance_ratio_)\n",
    "target_names = iris.target_names"
   ]
  },
  {
   "cell_type": "code",
   "execution_count": null,
   "metadata": {},
   "outputs": [
    {
     "name": "stderr",
     "output_type": "stream",
     "text": [
      "No handles with labels found to put in legend.\n",
      "c:\\python37\\lib\\site-packages\\ipykernel_launcher.py:15: UserWarning: Matplotlib is currently using module://ipykernel.pylab.backend_inline, which is a non-GUI backend, so cannot show the figure.\n",
      "  from ipykernel import kernelapp as app\n"
     ]
    }
   ],
   "source": [
    "def draw_pca(X_r, y, target_names, ax, title):\n",
    "    colors = ['navy', 'turquoise', 'darkorange']\n",
    "    lw = 2\n",
    "    #[0,1,2] are three Names \n",
    "    for color, i, target_name in zip(colors, [0, 1, 2], target_names):\n",
    "        #draw 2 pca features for each y = target_names,3 species \n",
    "        plt.scatter(X_r[y == i, 0], X_r[y == i, 1], color=color, alpha=.8, lw=lw, label=target_name)\n",
    "    ax.legend(loc='best', shadow=False, scatterpoints=1)\n",
    "    ax.set_title(title)\n",
    "    \n",
    "fig, (ax1,ax2) = plt.subplots(2,1)\n",
    "draw_pca(X_r, y, target_names, ax1, 'PCA of IRIS dataset - 2 components variance ')\n",
    "draw_pca(X, y, target_names, ax2, 'Original IRIS dataset - full variance')\n",
    "fig.tight_layout()\n",
    "fig.show()"
   ]
  },
  {
   "cell_type": "code",
   "execution_count": null,
   "metadata": {},
   "outputs": [],
   "source": []
  }
 ],
 "metadata": {
  "kernelspec": {
   "display_name": "Python 3",
   "language": "python",
   "name": "python3"
  },
  "language_info": {
   "codemirror_mode": {
    "name": "ipython",
    "version": 3
   },
   "file_extension": ".py",
   "mimetype": "text/x-python",
   "name": "python",
   "nbconvert_exporter": "python",
   "pygments_lexer": "ipython3",
   "version": "3.7.6"
  }
 },
 "nbformat": 4,
 "nbformat_minor": 2
}
